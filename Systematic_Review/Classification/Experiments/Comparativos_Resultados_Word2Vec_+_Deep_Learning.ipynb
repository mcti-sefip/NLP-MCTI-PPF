{
  "cells": [
    {
      "cell_type": "markdown",
      "metadata": {
        "id": "scZNenln2ZAq"
      },
      "source": [
        "###Imports###"
      ]
    },
    {
      "cell_type": "code",
      "execution_count": 1,
      "metadata": {
        "id": "ziejGhJy2VmT"
      },
      "outputs": [],
      "source": [
        "import json\n",
        "import keras\n",
        "import requests\n",
        "import numpy as np\n",
        "import pandas as pd\n",
        "\n",
        "from gensim.models import Word2Vec\n",
        "from gensim.models.callbacks import CallbackAny2Vec\n",
        "\n",
        "from keras import backend as K\n",
        "from keras.utils.data_utils import pad_sequences\n",
        "from sklearn.model_selection import train_test_split"
      ]
    },
    {
      "cell_type": "markdown",
      "metadata": {
        "id": "HX-tINnS9Fc3"
      },
      "source": [
        "###Functions###"
      ]
    },
    {
      "cell_type": "code",
      "execution_count": 2,
      "metadata": {
        "id": "vQW2UERrgbwy"
      },
      "outputs": [],
      "source": [
        "import json\n",
        "import io\n",
        "import shutil\n",
        "\n",
        "# Read list to memory\n",
        "def read_list(url):\n",
        "    myfile = requests.get(url)\n",
        "    myfile.raise_for_status()\n",
        "    n_list = json.load(io.BytesIO(myfile.content))\n",
        "    return n_list\n",
        "\n",
        "def read_labels(url):\n",
        "    response = requests.get(url)\n",
        "    response.raise_for_status()\n",
        "    data = np.load(io.BytesIO(response.content))\n",
        "    return np.array(data)\n",
        "\n",
        "def get_model(filename, url):\n",
        "    response = requests.get(url, stream=True)\n",
        "    with open(filename, 'wb') as fin:\n",
        "        shutil.copyfileobj(response.raw, fin)"
      ]
    },
    {
      "cell_type": "code",
      "execution_count": 3,
      "metadata": {
        "id": "YVrJjbWf9a56"
      },
      "outputs": [],
      "source": [
        "def recall_m(y_true, y_pred):\n",
        "    true_positives = K.sum(K.round(K.clip(y_true * y_pred, 0, 1)))\n",
        "    possible_positives = K.sum(K.round(K.clip(y_true, 0, 1)))\n",
        "    recall = true_positives / (possible_positives + K.epsilon())\n",
        "    return recall\n",
        "\n",
        "def precision_m(y_true, y_pred):\n",
        "    true_positives = K.sum(K.round(K.clip(y_true * y_pred, 0, 1)))\n",
        "    predicted_positives = K.sum(K.round(K.clip(y_pred, 0, 1)))\n",
        "    precision = true_positives / (predicted_positives + K.epsilon())\n",
        "    return precision\n",
        "\n",
        "def f1_m(y_true, y_pred):\n",
        "    precision = precision_m(y_true, y_pred)\n",
        "    recall = recall_m(y_true, y_pred)\n",
        "    return 2*((precision*recall)/(precision+recall+K.epsilon()))"
      ]
    },
    {
      "cell_type": "markdown",
      "metadata": {
        "id": "vFBIvU0WuUc8"
      },
      "source": [
        "###Load pre-processed Dataset###"
      ]
    },
    {
      "cell_type": "code",
      "execution_count": 4,
      "metadata": {
        "id": "leIwp4NGI-ZY"
      },
      "outputs": [],
      "source": [
        "sentencesMCTIList = read_list(\"https://github.com/chap0lin/PPF-MCTI/blob/master/Pre-processamento/xp8_list.json?raw=true\")\n",
        "labels = read_labels(\"https://github.com/chap0lin/PPF-MCTI/blob/master/Pre-processamento/labels.npy?raw=true\")"
      ]
    },
    {
      "cell_type": "markdown",
      "metadata": {
        "id": "RHcDxfHXXuXs"
      },
      "source": [
        "###Load Word2Vec Model###"
      ]
    },
    {
      "cell_type": "code",
      "execution_count": 5,
      "metadata": {
        "id": "PWZnKbW9cUwD"
      },
      "outputs": [],
      "source": [
        "#initialise callback class\n",
        "class callback(CallbackAny2Vec):\n",
        "  \"\"\"\n",
        "  Print the loss value after each epoch\n",
        "  \"\"\"\n",
        "  def __init__(self):\n",
        "    self.epoch = 0\n",
        "    #gensim loss is cumulative, so we record previous values to print\n",
        "    self.loss_previous_step = 0 \n",
        "\n",
        "  def on_epoch_end(self, model):\n",
        "    loss = model.get_latest_training_loss()\n",
        "    if self.epoch % 100 == 0:\n",
        "      print('Loss after epoch {}: {}'.format(self.epoch, loss-self.loss_previous_step))\n",
        "\n",
        "    self.epoch+= 1\n",
        "    self.loss_previous_step = loss"
      ]
    },
    {
      "cell_type": "code",
      "execution_count": 6,
      "metadata": {
        "id": "n32Rth1rJyQo"
      },
      "outputs": [],
      "source": [
        "get_model(\"word2vec_xp8.model\", \"https://github.com/chap0lin/PPF-MCTI/blob/master/Meta10/pesos/word2vec/word2vec_xp8.model?raw=true\")"
      ]
    },
    {
      "cell_type": "code",
      "execution_count": 7,
      "metadata": {
        "id": "2MWi5gTUXyWD"
      },
      "outputs": [],
      "source": [
        "reloaded_w2v_model = Word2Vec.load('word2vec_xp8.model')\n",
        "words = list(reloaded_w2v_model.wv.vocab)"
      ]
    },
    {
      "cell_type": "code",
      "execution_count": 8,
      "metadata": {
        "id": "5TL6rrQvX61y"
      },
      "outputs": [],
      "source": [
        "mapped_words = []\n",
        "for word in words:\n",
        "  mapped_words.append(reloaded_w2v_model.wv[word])"
      ]
    },
    {
      "cell_type": "code",
      "execution_count": 9,
      "metadata": {
        "id": "0UIQeTRUNv_7"
      },
      "outputs": [],
      "source": [
        "# create training testing data\n",
        "\n",
        "MCTIinput_vector = []\n",
        "for sentence in sentencesMCTIList:\n",
        "  aux_vector = []\n",
        "  for word in sentence:\n",
        "    aux_vector.append(reloaded_w2v_model.wv[word])\n",
        "  MCTIinput_vector.append(aux_vector)\n",
        "\n",
        "max_sizeMCTI = 0\n",
        "for sentence in MCTIinput_vector:\n",
        "  if len(sentence) > max_sizeMCTI:\n",
        "    max_sizeMCTI = len(sentence)\n",
        "  \n",
        "\n",
        "lengthMCTI = max_sizeMCTI\n",
        "MCTIinput_vector = pad_sequences(MCTIinput_vector, maxlen=lengthMCTI, padding='pre')\n",
        "\n",
        "\n",
        "#MCTI\n",
        "x_trainMCTI, x_testMCTI, y_trainMCTI, y_testMCTI = train_test_split(MCTIinput_vector, \n",
        "                                                                    labels, \n",
        "                                                                    test_size=0.20, \n",
        "                                                                    random_state=20)"
      ]
    },
    {
      "cell_type": "markdown",
      "metadata": {
        "id": "j9VAJkon9eUC"
      },
      "source": [
        "###Evaluate###"
      ]
    },
    {
      "cell_type": "code",
      "execution_count": 21,
      "metadata": {
        "id": "KgWvQKB9US7C"
      },
      "outputs": [],
      "source": [
        "get_model(\"best weights LSTM.h5\", \"https://github.com/chap0lin/PPF-MCTI/blob/master/Meta10/pesos/word2vec/best%20weights%20LSTM.h5?raw=true\")"
      ]
    },
    {
      "cell_type": "code",
      "execution_count": 22,
      "metadata": {
        "colab": {
          "base_uri": "https://localhost:8080/"
        },
        "id": "oqncZgwRNsd9",
        "outputId": "d0c36cd5-20d0-4ee8-af25-8bd54093325c"
      },
      "outputs": [
        {
          "name": "stdout",
          "output_type": "stream",
          "text": [
            "Accuracy LSTM: 89.784944\n",
            "f1_score LSTM: 85.067540\n",
            "precision LSTM: 97.095960\n",
            "recall LSTM: 75.905579\n"
          ]
        }
      ],
      "source": [
        "reconstructed_model_LSTM = keras.models.load_model(\"best weights LSTM.h5\", \n",
        "                                                   custom_objects={'f1_m':f1_m, \n",
        "                                                                   \"precision_m\":precision_m, \n",
        "                                                                   \"recall_m\":recall_m})\n",
        "# evaluate the model\n",
        "loss, accuracy, f1_score, precision, recall = reconstructed_model_LSTM.evaluate(x_testMCTI, \n",
        "                                                                     y_testMCTI, \n",
        "                                                                     verbose=0)\n",
        "print('Accuracy LSTM: %f' % (accuracy*100))\n",
        "print('f1_score LSTM: %f' % (f1_score*100))\n",
        "print('precision LSTM: %f' % (precision*100))\n",
        "print('recall LSTM: %f' % (recall*100))"
      ]
    },
    {
      "cell_type": "code",
      "execution_count": 17,
      "metadata": {
        "id": "FisCDCeZLEMi"
      },
      "outputs": [],
      "source": [
        "get_model(\"best weights CNN.h5\", \"https://github.com/chap0lin/PPF-MCTI/blob/master/Meta10/pesos/word2vec/best%20weights%20CNN.h5?raw=true\")"
      ]
    },
    {
      "cell_type": "code",
      "execution_count": 18,
      "metadata": {
        "colab": {
          "base_uri": "https://localhost:8080/"
        },
        "id": "Hn912mupWuof",
        "outputId": "74ea76e6-f459-4ffb-bb44-b85f070bc14e"
      },
      "outputs": [
        {
          "name": "stdout",
          "output_type": "stream",
          "text": [
            "Accuracy CNN: 92.473119\n",
            "f1_score CNN: 88.419127\n",
            "precision CNN: 98.717946\n",
            "recall CNN: 80.850625\n"
          ]
        }
      ],
      "source": [
        "reconstructed_model_CNN = keras.models.load_model(\"best weights CNN.h5\", \n",
        "                                                   custom_objects={'f1_m':f1_m, \n",
        "                                                                   \"precision_m\":precision_m, \n",
        "                                                                   \"recall_m\":recall_m})\n",
        "# evaluate the model\n",
        "loss, accuracy, f1_score, precision, recall = reconstructed_model_CNN.evaluate(x_testMCTI, \n",
        "                                                                     y_testMCTI, \n",
        "                                                                     verbose=0)\n",
        "print('Accuracy CNN: %f' % (accuracy*100))\n",
        "print('f1_score CNN: %f' % (f1_score*100))\n",
        "print('precision CNN: %f' % (precision*100))\n",
        "print('recall CNN: %f' % (recall*100))"
      ]
    },
    {
      "cell_type": "code",
      "execution_count": 19,
      "metadata": {
        "id": "keGI_spXLcmR"
      },
      "outputs": [],
      "source": [
        "get_model(\"best weights DNN.h5\", \"https://github.com/chap0lin/PPF-MCTI/blob/master/Meta10/pesos/word2vec/best%20weights%20DNN.h5?raw=true\")"
      ]
    },
    {
      "cell_type": "code",
      "execution_count": 20,
      "metadata": {
        "colab": {
          "base_uri": "https://localhost:8080/"
        },
        "id": "H5ZMkwxVWutH",
        "outputId": "218ec4e6-2248-4f2a-f832-f3f98f87648f"
      },
      "outputs": [
        {
          "name": "stdout",
          "output_type": "stream",
          "text": [
            "Accuracy DNN: 90.322578\n",
            "f1_score DNN: 86.522371\n",
            "precision DNN: 88.696486\n",
            "recall DNN: 85.175008\n"
          ]
        }
      ],
      "source": [
        "reconstructed_model_DNN = keras.models.load_model(\"best weights DNN.h5\", \n",
        "                                                   custom_objects={'f1_m':f1_m, \n",
        "                                                                   \"precision_m\":precision_m, \n",
        "                                                                   \"recall_m\":recall_m})\n",
        "# evaluate the model\n",
        "loss, accuracy, f1_score, precision, recall = reconstructed_model_DNN.evaluate(x_testMCTI, \n",
        "                                                                     y_testMCTI, \n",
        "                                                                     verbose=0)\n",
        "print('Accuracy DNN: %f' % (accuracy*100))\n",
        "print('f1_score DNN: %f' % (f1_score*100))\n",
        "print('precision DNN: %f' % (precision*100))\n",
        "print('recall DNN: %f' % (recall*100))"
      ]
    },
    {
      "cell_type": "code",
      "execution_count": 21,
      "metadata": {
        "id": "rzKzfowOLgqA"
      },
      "outputs": [],
      "source": [
        "get_model(\"best weights SNN.h5\", \"https://github.com/chap0lin/PPF-MCTI/blob/master/Meta10/pesos/word2vec/best%20weights%20SNN.h5?raw=true\")"
      ]
    },
    {
      "cell_type": "code",
      "execution_count": 22,
      "metadata": {
        "colab": {
          "base_uri": "https://localhost:8080/"
        },
        "id": "BDP56f1LWuw-",
        "outputId": "c7239e97-94d2-495c-9b82-7a54c8c4ffc5"
      },
      "outputs": [
        {
          "name": "stdout",
          "output_type": "stream",
          "text": [
            "Accuracy SNN: 89.247310\n",
            "f1_score SNN: 83.824784\n",
            "precision SNN: 97.095960\n",
            "recall SNN: 74.145293\n"
          ]
        }
      ],
      "source": [
        "reconstructed_model_SNN = keras.models.load_model(\"best weights SNN.h5\", \n",
        "                                                   custom_objects={'f1_m':f1_m, \n",
        "                                                                   \"precision_m\":precision_m, \n",
        "                                                                   \"recall_m\":recall_m})\n",
        "# evaluate the model\n",
        "loss, accuracy, f1_score, precision, recall = reconstructed_model_SNN.evaluate(x_testMCTI, \n",
        "                                                                     y_testMCTI, \n",
        "                                                                     verbose=0)\n",
        "print('Accuracy SNN: %f' % (accuracy*100))\n",
        "print('f1_score SNN: %f' % (f1_score*100))\n",
        "print('precision SNN: %f' % (precision*100))\n",
        "print('recall SNN: %f' % (recall*100))"
      ]
    }
  ],
  "metadata": {
    "colab": {
      "provenance": []
    },
    "kernelspec": {
      "display_name": "Python 3.9.7 64-bit",
      "language": "python",
      "name": "python3"
    },
    "language_info": {
      "name": "python",
      "version": "3.9.7"
    },
    "vscode": {
      "interpreter": {
        "hash": "8a7eb087832d2deaa65950a54da9d3f6327e76fef24c83cb94bd57d8a64a2f25"
      }
    }
  },
  "nbformat": 4,
  "nbformat_minor": 0
}
