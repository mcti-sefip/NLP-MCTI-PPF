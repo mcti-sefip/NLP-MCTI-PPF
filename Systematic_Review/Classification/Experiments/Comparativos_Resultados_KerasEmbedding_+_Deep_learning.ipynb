{
  "cells": [
    {
      "cell_type": "markdown",
      "metadata": {
        "id": "An3ds7SMo5vO"
      },
      "source": [
        "# Introdução"
      ]
    },
    {
      "cell_type": "code",
      "execution_count": 2,
      "metadata": {
        "id": "oxE1S_DuopIe"
      },
      "outputs": [],
      "source": [
        "import math\n",
        "import time\n",
        "import requests\n",
        "import unicodedata\n",
        "\n",
        "import numpy as np\n",
        "from numpy import array\n",
        "import tensorflow as tf \n",
        "from tensorflow import keras\n",
        "\n",
        "import pandas as pd\n",
        "import matplotlib.pyplot as plt\n",
        "from keras.models import Sequential\n",
        "from keras.layers import Dense\n",
        "from keras.layers import Flatten\n",
        "from keras.layers import Input\n",
        "from keras.layers import Activation\n",
        "from keras.layers import GlobalMaxPool1D\n",
        "from keras.layers import Dropout, Conv1D, GlobalMaxPooling1D\n",
        "from keras.layers import LSTM\n",
        "from keras.layers import Embedding\n",
        "from keras.preprocessing.text import one_hot\n",
        "from keras.utils import pad_sequences\n",
        "\n",
        "\n",
        "from sklearn.model_selection import train_test_split"
      ]
    },
    {
      "cell_type": "code",
      "execution_count": 3,
      "metadata": {
        "id": "Odt24fJmpVR8"
      },
      "outputs": [],
      "source": [
        "from keras import backend as K\n",
        "\n",
        "def recall_m(y_true, y_pred):\n",
        "    true_positives = K.sum(K.round(K.clip(y_true * y_pred, 0, 1)))\n",
        "    possible_positives = K.sum(K.round(K.clip(y_true, 0, 1)))\n",
        "    recall = true_positives / (possible_positives + K.epsilon())\n",
        "    return recall\n",
        "\n",
        "def precision_m(y_true, y_pred):\n",
        "    true_positives = K.sum(K.round(K.clip(y_true * y_pred, 0, 1)))\n",
        "    predicted_positives = K.sum(K.round(K.clip(y_pred, 0, 1)))\n",
        "    precision = true_positives / (predicted_positives + K.epsilon())\n",
        "    return precision\n",
        "\n",
        "def f1_m(y_true, y_pred):\n",
        "    precision = precision_m(y_true, y_pred)\n",
        "    recall = recall_m(y_true, y_pred)\n",
        "    return 2*((precision*recall)/(precision+recall+K.epsilon()))"
      ]
    },
    {
      "cell_type": "markdown",
      "metadata": {
        "id": "K6Zq5Mk_pgrz"
      },
      "source": [
        "# Dataset"
      ]
    },
    {
      "cell_type": "code",
      "execution_count": null,
      "metadata": {
        "colab": {
          "base_uri": "https://localhost:8080/"
        },
        "id": "b_VY68jjxcoA",
        "outputId": "c0140385-ea26-4a75-9821-9d507e0c6d7a"
      },
      "outputs": [],
      "source": [
        "import json\n",
        "import io\n",
        "import shutil\n",
        "\n",
        "# Read list to memory\n",
        "def read_list(url):\n",
        "    myfile = requests.get(url)\n",
        "    myfile.raise_for_status()\n",
        "    n_list = json.load(io.BytesIO(myfile.content))\n",
        "    return n_list\n",
        "\n",
        "def read_labels(url):\n",
        "    response = requests.get(url)\n",
        "    response.raise_for_status()\n",
        "    data = np.load(io.BytesIO(response.content))\n",
        "    return np.array(data)\n",
        "\n",
        "def get_model(filename, url):\n",
        "    response = requests.get(url, stream=True)\n",
        "    with open(filename, 'wb') as fin:\n",
        "        shutil.copyfileobj(response.raw, fin)"
      ]
    },
    {
      "cell_type": "code",
      "execution_count": null,
      "metadata": {},
      "outputs": [],
      "source": [
        "sentencesMCTIList = read_list(\"https://github.com/chap0lin/PPF-MCTI/blob/master/Pre-processamento/xp8_list.json?raw=true\")\n",
        "labels = read_labels(\"https://github.com/chap0lin/PPF-MCTI/blob/master/Pre-processamento/labels.npy?raw=true\")"
      ]
    },
    {
      "cell_type": "code",
      "execution_count": 49,
      "metadata": {
        "id": "-ofELlY6wL8J"
      },
      "outputs": [],
      "source": [
        "vocab = []\n",
        "for sentence in sentencesMCTIList:\n",
        "  for word in sentence:\n",
        "    if word not in vocab:\n",
        "      vocab.append(word)\n",
        "\n",
        "vocab_size = len(set(vocab))\n",
        "input_vector = []\n",
        "i = 0\n",
        "for sentence in sentencesMCTIList:\n",
        "  input_vector.append([one_hot(word, vocab_size, filters='') for word in sentence])\n",
        "\n",
        "max_size = 0\n",
        "for sentence in input_vector:\n",
        "  if len(sentence) > max_size:\n",
        "    max_size = len(sentence)\n",
        "\n",
        "input_vector = pad_sequences(input_vector, maxlen=max_size, padding='pre')\n",
        "\n",
        "# Split dataset into train and test data\n",
        "x_train, x_test, y_train, y_test = train_test_split(input_vector, labels, test_size=0.20, random_state=20)\n"
      ]
    },
    {
      "cell_type": "markdown",
      "metadata": {
        "id": "6OYn3s1fsLJF"
      },
      "source": [
        "## SNN"
      ]
    },
    {
      "cell_type": "code",
      "execution_count": null,
      "metadata": {},
      "outputs": [],
      "source": [
        "get_model(\"best weights SNN.h5\", \"https://github.com/chap0lin/PPF-MCTI/blob/master/Pre-processamento/Pesos/best%20weights%20SNN.h5?raw=true\")"
      ]
    },
    {
      "cell_type": "code",
      "execution_count": null,
      "metadata": {
        "colab": {
          "base_uri": "https://localhost:8080/"
        },
        "id": "XqUFEMSgH-bj",
        "outputId": "d8ce8a07-859b-4a5f-e9fb-f3b45ed75c26"
      },
      "outputs": [
        {
          "name": "stdout",
          "output_type": "stream",
          "text": [
            "XP8:\n",
            "Accuracy NN: 92.473119\n",
            "f1_score NN: 88.460702\n",
            "precision NN: 100.000000\n",
            "recall NN: 79.660153\n"
          ]
        }
      ],
      "source": [
        "path = \"best weights SNN.h5\"\n",
        "\n",
        "reconstructed_model_NN = keras.models.load_model(path, \n",
        "                                                 custom_objects={'f1_m':f1_m, \n",
        "                                                                 \"precision_m\":precision_m, \n",
        "                                                                 \"recall_m\":recall_m})\n",
        "# evaluate the model\n",
        "loss, accuracy, f1_score, precision, recall = reconstructed_model_NN.evaluate(x_test, \n",
        "                                                                              y_test, \n",
        "                                                                              verbose=0)\n",
        "\n",
        "print(\"XP8:\")\n",
        "print('Accuracy NN: %f' % (accuracy*100))\n",
        "print('f1_score NN: %f' % (f1_score*100))\n",
        "print('precision NN: %f' % (precision*100))\n",
        "print('recall NN: %f' % (recall*100))"
      ]
    },
    {
      "cell_type": "markdown",
      "metadata": {
        "id": "EFGsZkHfsNxG"
      },
      "source": [
        "## DNN"
      ]
    },
    {
      "cell_type": "code",
      "execution_count": null,
      "metadata": {},
      "outputs": [],
      "source": [
        "get_model(\"best weights DNN.h5\", \"https://github.com/chap0lin/PPF-MCTI/blob/master/Pre-processamento/Pesos/best%20weights%20DNN.h5?raw=true\")"
      ]
    },
    {
      "cell_type": "code",
      "execution_count": null,
      "metadata": {
        "colab": {
          "base_uri": "https://localhost:8080/"
        },
        "id": "ygUm9eLn6xwq",
        "outputId": "f1fe550d-f67b-48ca-b178-9a03b0cb6ea3"
      },
      "outputs": [
        {
          "name": "stdout",
          "output_type": "stream",
          "text": [
            "Base:\n",
            "Accuracy DNN: 89.784944\n",
            "f1_score DNN: 84.410125\n",
            "precision DNN: 92.567152\n",
            "recall DNN: 77.808303\n"
          ]
        }
      ],
      "source": [
        "path = \"best weights DNN.h5\"\n",
        "\n",
        "reconstructed_model_DNN = keras.models.load_model(path, \n",
        "                                                 custom_objects={'f1_m':f1_m, \n",
        "                                                                 \"precision_m\":precision_m, \n",
        "                                                                 \"recall_m\":recall_m})\n",
        "# evaluate the model\n",
        "loss, accuracy, f1_score, precision, recall = reconstructed_model_DNN.evaluate(x_test, \n",
        "                                                                              y_test, \n",
        "                                                                              verbose=0)\n",
        "\n",
        "print('Base:')\n",
        "print('Accuracy DNN: %f' % (accuracy*100))\n",
        "print('f1_score DNN: %f' % (f1_score*100))\n",
        "print('precision DNN: %f' % (precision*100))\n",
        "print('recall DNN: %f' % (recall*100))"
      ]
    },
    {
      "cell_type": "markdown",
      "metadata": {
        "id": "YRGnnFtjsQf-"
      },
      "source": [
        "## CNN"
      ]
    },
    {
      "cell_type": "code",
      "execution_count": null,
      "metadata": {},
      "outputs": [],
      "source": [
        "get_model(\"best weights CNN.h5\", \"https://github.com/chap0lin/PPF-MCTI/blob/master/Pre-processamento/Pesos/best%20weights%20CNN.h5?raw=true\")"
      ]
    },
    {
      "cell_type": "code",
      "execution_count": null,
      "metadata": {
        "colab": {
          "base_uri": "https://localhost:8080/"
        },
        "id": "qos8Ha_B7TkT",
        "outputId": "f5dd218b-8b06-4cac-ca9f-c26702681954"
      },
      "outputs": [
        {
          "name": "stdout",
          "output_type": "stream",
          "text": [
            "Base:\n",
            "Accuracy cnn: 93.010753\n",
            "f1_score cnn: 89.913744\n",
            "precision cnn: 95.694447\n",
            "recall cnn: 85.175008\n"
          ]
        }
      ],
      "source": [
        "path = \"best weights CNN.h5\"\n",
        "\n",
        "reconstructed_model_cnn = keras.models.load_model(path, \n",
        "                                                 custom_objects={'f1_m':f1_m, \n",
        "                                                                 \"precision_m\":precision_m, \n",
        "                                                                 \"recall_m\":recall_m})\n",
        "# evaluate the model\n",
        "loss, accuracy, f1_score, precision, recall = reconstructed_model_cnn.evaluate(x_test, \n",
        "                                                                              y_test, \n",
        "                                                                              verbose=0)\n",
        "\n",
        "print('Base:')\n",
        "print('Accuracy cnn: %f' % (accuracy*100))\n",
        "print('f1_score cnn: %f' % (f1_score*100))\n",
        "print('precision cnn: %f' % (precision*100))\n",
        "print('recall cnn: %f' % (recall*100))"
      ]
    },
    {
      "cell_type": "markdown",
      "metadata": {
        "id": "yMLjozBwsTbw"
      },
      "source": [
        "## LSTM"
      ]
    },
    {
      "cell_type": "code",
      "execution_count": null,
      "metadata": {},
      "outputs": [],
      "source": [
        "get_model(\"best weights LSTM.h5\", \"https://github.com/chap0lin/PPF-MCTI/blob/master/Pre-processamento/Pesos/best%20weights%20LSTM.h5?raw=true\")"
      ]
    },
    {
      "cell_type": "code",
      "execution_count": null,
      "metadata": {
        "colab": {
          "base_uri": "https://localhost:8080/"
        },
        "id": "RWyMsF5x7qfr",
        "outputId": "fdea7d02-1824-403e-d189-3c0b48de8762"
      },
      "outputs": [
        {
          "name": "stdout",
          "output_type": "stream",
          "text": [
            "Base:\n",
            "Accuracy lstm: 93.010753\n",
            "f1_score lstm: 88.937265\n",
            "precision lstm: 95.535713\n",
            "recall lstm: 83.323151\n"
          ]
        }
      ],
      "source": [
        "path = \"best weights LSTM.h5\"\n",
        "\n",
        "reconstructed_model_lstm = keras.models.load_model(path, \n",
        "                                                 custom_objects={'f1_m':f1_m, \n",
        "                                                                 \"precision_m\":precision_m, \n",
        "                                                                 \"recall_m\":recall_m})\n",
        "# evaluate the model\n",
        "loss, accuracy, f1_score, precision, recall = reconstructed_model_lstm.evaluate(x_test, \n",
        "                                                                              y_test, \n",
        "                                                                              verbose=0)\n",
        "\n",
        "print('Base:')\n",
        "print('Accuracy lstm: %f' % (accuracy*100))\n",
        "print('f1_score lstm: %f' % (f1_score*100))\n",
        "print('precision lstm: %f' % (precision*100))\n",
        "print('recall lstm: %f' % (recall*100))"
      ]
    },
    {
      "cell_type": "code",
      "execution_count": 69,
      "metadata": {
        "colab": {
          "base_uri": "https://localhost:8080/"
        },
        "id": "u57MLeWCsYAC",
        "outputId": "6a932c4e-4f74-4609-94a6-faae1197ee3c"
      },
      "outputs": [
        {
          "name": "stdout",
          "output_type": "stream",
          "text": [
            "2.9.2\n"
          ]
        }
      ],
      "source": [
        "print(tf.__version__)"
      ]
    },
    {
      "cell_type": "code",
      "execution_count": 70,
      "metadata": {
        "colab": {
          "base_uri": "https://localhost:8080/"
        },
        "id": "AXz3_LUHKcoN",
        "outputId": "1dfc00ee-f536-47f2-84c5-fb32410d035d"
      },
      "outputs": [
        {
          "name": "stdout",
          "output_type": "stream",
          "text": [
            "Name: keras\n",
            "Version: 2.9.0\n",
            "Summary: Deep learning for humans.\n",
            "Home-page: https://keras.io/\n",
            "Author: Keras team\n",
            "Author-email: keras-users@googlegroups.com\n",
            "License: Apache 2.0\n",
            "Location: /usr/local/lib/python3.7/dist-packages\n",
            "Requires: \n",
            "Required-by: tensorflow, keras-vis\n"
          ]
        }
      ],
      "source": [
        "!pip show keras"
      ]
    }
  ],
  "metadata": {
    "colab": {
      "provenance": []
    },
    "kernelspec": {
      "display_name": "Python 3",
      "name": "python3"
    },
    "language_info": {
      "name": "python"
    }
  },
  "nbformat": 4,
  "nbformat_minor": 0
}
