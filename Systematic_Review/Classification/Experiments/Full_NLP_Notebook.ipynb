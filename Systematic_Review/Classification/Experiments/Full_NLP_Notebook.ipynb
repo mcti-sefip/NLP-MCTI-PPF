{
  "cells": [
    {
      "cell_type": "markdown",
      "metadata": {
        "id": "vbSgLzMwHdNE"
      },
      "source": [
        "###Mount drive to import datasets"
      ]
    },
    {
      "cell_type": "code",
      "execution_count": null,
      "metadata": {
        "colab": {
          "base_uri": "https://localhost:8080/"
        },
        "id": "ODN__ZnqafMR",
        "outputId": "68c023e2-3090-4147-a5ae-9c956c93094f"
      },
      "outputs": [
        {
          "name": "stdout",
          "output_type": "stream",
          "text": [
            "Mounted at /content/drive\n"
          ]
        }
      ],
      "source": [
        "from google.colab import drive\n",
        "drive.mount('/content/drive')"
      ]
    },
    {
      "cell_type": "markdown",
      "metadata": {
        "id": "Q_m0bu_PVBpf"
      },
      "source": [
        "## Imports"
      ]
    },
    {
      "cell_type": "code",
      "execution_count": null,
      "metadata": {
        "colab": {
          "base_uri": "https://localhost:8080/"
        },
        "id": "3SGSSh9SU_4g",
        "outputId": "8e4c0946-16fb-4d17-ca3f-c0e35ec23ede"
      },
      "outputs": [
        {
          "name": "stdout",
          "output_type": "stream",
          "text": [
            "[nltk_data] Downloading package punkt to /root/nltk_data...\n",
            "[nltk_data]   Unzipping tokenizers/punkt.zip.\n"
          ]
        },
        {
          "data": {
            "text/plain": [
              "True"
            ]
          },
          "execution_count": 2,
          "metadata": {},
          "output_type": "execute_result"
        }
      ],
      "source": [
        "import numpy as np\n",
        "from numpy import array\n",
        "from keras.preprocessing.text import one_hot\n",
        "from keras.preprocessing.sequence import pad_sequences\n",
        "from keras.models import Sequential\n",
        "from keras.layers import Dense\n",
        "from keras.layers import Flatten\n",
        "from keras.layers.embeddings import Embedding\n",
        "from sklearn.model_selection import train_test_split\n",
        "import tensorflow as tf \n",
        "from tensorflow import keras\n",
        "import matplotlib.pyplot as plt\n",
        "import re\n",
        "import nltk\n",
        "nltk.download('punkt')\n"
      ]
    },
    {
      "cell_type": "markdown",
      "metadata": {
        "id": "hSO4ys61L2c9"
      },
      "source": [
        "###Functions"
      ]
    },
    {
      "cell_type": "code",
      "execution_count": null,
      "metadata": {
        "id": "Pp6rEOE6VLIH"
      },
      "outputs": [],
      "source": [
        "def quickHistogram(labels): \n",
        "  classes = [\"other\", \"tech\"]\n",
        "  counts = []\n",
        "\n",
        "  for i in range(len(classes)):\n",
        "    count = 0\n",
        "    for j in labels:\n",
        "      if j == i:\n",
        "        count += 1\n",
        "    counts.append(count)\n",
        "\n",
        "  plt.bar([\"other\", \"tech\"], counts)\n",
        "  plt.show()"
      ]
    },
    {
      "cell_type": "code",
      "execution_count": null,
      "metadata": {
        "id": "tGzR_MUBX_LM"
      },
      "outputs": [],
      "source": [
        "plt.style.use('ggplot')\n",
        "\n",
        "def plot_history(history):\n",
        "    acc = history.history['accuracy']\n",
        "    val_acc = history.history['val_accuracy']\n",
        "    loss = history.history['loss']\n",
        "    val_loss = history.history['val_loss']\n",
        "    x = range(1, len(acc) + 1)\n",
        "\n",
        "    plt.figure(figsize=(12, 5))\n",
        "    plt.subplot(1, 2, 1)\n",
        "    plt.plot(x, acc, 'b', label='Training acc')\n",
        "    plt.plot(x, val_acc, 'r', label='Validation acc')\n",
        "    plt.title('Training and validation accuracy')\n",
        "    plt.legend()\n",
        "    plt.subplot(1, 2, 2)\n",
        "    plt.plot(x, loss, 'b', label='Training loss')\n",
        "    plt.plot(x, val_loss, 'r', label='Validation loss')\n",
        "    plt.title('Training and validation loss')\n",
        "    plt.legend()"
      ]
    },
    {
      "cell_type": "markdown",
      "metadata": {
        "id": "GZxronpTUP8y"
      },
      "source": [
        "## Datasets"
      ]
    },
    {
      "cell_type": "code",
      "execution_count": null,
      "metadata": {
        "id": "WHxdxjecTsIZ"
      },
      "outputs": [],
      "source": [
        "import pandas as pd\n",
        "dataBBC = pd.read_csv(\"/content/drive/MyDrive/Mestrado/Datasets/bbc-news-data.csv\", delimiter='\\t')\n",
        "\n",
        "dataMCTI = pd.read_excel(\"/content/drive/MyDrive/Mestrado/Datasets/oportunidades_classificacao_4.xlsx\", sheet_name='Oportunidades')"
      ]
    },
    {
      "cell_type": "code",
      "execution_count": null,
      "metadata": {},
      "outputs": [],
      "source": [
        "import requests\n",
        "import pandas as pd\n",
        "url = 'https://github.com/chap0lin/nlp_datasets/blob/master/oportunidades_classificacao_4.xlsx?raw=true'\n",
        "r = requests.get(url)\n",
        "open('temp.xlsx', 'wb').write(r.content)\n",
        "dataMCTI = pd.read_excel('temp.xlsx', sheet_name='Oportunidades')\n",
        "\n",
        "url2 = 'https://github.com/chap0lin/nlp_datasets/blob/master/bbc-news-data.csv?raw=true'\n",
        "r2 = requests.get(url2)\n",
        "open('temp2.csv', 'wb').write(r2.content)\n",
        "dataBBC = pd.read_csv('temp2.csv', delimiter='\\t')"
      ]
    },
    {
      "cell_type": "code",
      "execution_count": null,
      "metadata": {
        "colab": {
          "base_uri": "https://localhost:8080/"
        },
        "id": "AlGLC1H7I4-H",
        "outputId": "b44289f3-7e00-44e6-d762-3d27aad0e3f5"
      },
      "outputs": [
        {
          "name": "stdout",
          "output_type": "stream",
          "text": [
            "BBC article Dataset has 2225 examples with 4 columns of information\n",
            "MCTI Dataset has 357 examples with 11 columns of information\n"
          ]
        }
      ],
      "source": [
        "print(\"BBC article Dataset has \" + str(dataBBC.shape[0]) + \" examples with \" + str(dataBBC.shape[1]) + \" columns of information\")\n",
        "\n",
        "print(\"MCTI Dataset has \" + str(dataMCTI.shape[0]) + \" examples with \" + str(dataMCTI.shape[1]) + \" columns of information\")"
      ]
    },
    {
      "cell_type": "code",
      "execution_count": null,
      "metadata": {
        "colab": {
          "base_uri": "https://localhost:8080/"
        },
        "id": "_2QjHX4MJQ4t",
        "outputId": "3e979aa0-7c40-4c49-a446-f8f26530bab8"
      },
      "outputs": [
        {
          "data": {
            "text/plain": [
              "sport            511\n",
              "business         510\n",
              "politics         417\n",
              "tech             401\n",
              "entertainment    386\n",
              "Name: category, dtype: int64"
            ]
          },
          "execution_count": 7,
          "metadata": {},
          "output_type": "execute_result"
        }
      ],
      "source": [
        "dataBBC['category'].value_counts()"
      ]
    },
    {
      "cell_type": "code",
      "execution_count": null,
      "metadata": {
        "colab": {
          "base_uri": "https://localhost:8080/"
        },
        "id": "9ltBlGIzLkJH",
        "outputId": "d17c4e10-24ee-4e30-89d4-c43ed9ca625d"
      },
      "outputs": [
        {
          "data": {
            "text/plain": [
              "Y    152\n",
              "N    108\n",
              "Name: clas, dtype: int64"
            ]
          },
          "execution_count": 8,
          "metadata": {},
          "output_type": "execute_result"
        }
      ],
      "source": [
        "dataMCTI['clas'].value_counts()"
      ]
    },
    {
      "cell_type": "code",
      "execution_count": null,
      "metadata": {
        "id": "3aD0C8mDJnau"
      },
      "outputs": [],
      "source": [
        "#create BBC data subset to reflect the MCTI dataset\n",
        "subsampleBBC = dataBBC.copy() \n",
        "subsampleBBC = subsampleBBC.drop(subsampleBBC[subsampleBBC['category'] == 'business'].sample(frac=0.9, random_state=1).index)\n",
        "subsampleBBC = subsampleBBC.drop(subsampleBBC[subsampleBBC['category'] == 'entertainment'].sample(frac=0.9, random_state=1).index)\n",
        "subsampleBBC = subsampleBBC.drop(subsampleBBC[subsampleBBC['category'] == 'politics'].sample(frac=0.9, random_state=1).index)\n",
        "subsampleBBC = subsampleBBC.drop(subsampleBBC[subsampleBBC['category'] == 'sport'].sample(frac=0.9, random_state=1).index)\n",
        "subsampleBBC = subsampleBBC.drop(subsampleBBC[subsampleBBC['category'] == 'tech'].sample(frac=0.5, random_state=1).index)"
      ]
    },
    {
      "cell_type": "code",
      "execution_count": null,
      "metadata": {
        "colab": {
          "base_uri": "https://localhost:8080/",
          "height": 282
        },
        "id": "cjbVmgFRJdjd",
        "outputId": "b832ebad-6149-49fd-a9bb-6438f3bacb0f"
      },
      "outputs": [
        {
          "data": {
            "text/plain": [
              "<matplotlib.axes._subplots.AxesSubplot at 0x7ff7ad2d0950>"
            ]
          },
          "execution_count": 10,
          "metadata": {},
          "output_type": "execute_result"
        },
        {
          "data": {
            "image/png": "[encoded data removed]",
            "text/plain": [
              "<Figure size 432x288 with 1 Axes>"
            ]
          },
          "metadata": {},
          "output_type": "display_data"
        }
      ],
      "source": [
        "subsampleBBC['category'].hist()"
      ]
    },
    {
      "cell_type": "code",
      "execution_count": null,
      "metadata": {
        "id": "F3HAOowNKPhP"
      },
      "outputs": [],
      "source": [
        "sentencesBBC = subsampleBBC['content']\n",
        "labelsBBC = subsampleBBC['category']\n",
        "\n",
        "labelsBBC = np.where(labelsBBC == \"tech\", 1, 0)"
      ]
    },
    {
      "cell_type": "code",
      "execution_count": null,
      "metadata": {
        "id": "gh6fYYbL2TdW"
      },
      "outputs": [],
      "source": [
        "sentencesMCTI = dataMCTI['opo_texto']\n",
        "labels = dataMCTI['clas']\n",
        "\n",
        "newdata = dataMCTI.copy()\n",
        "newdata = newdata[(newdata['clas'] == 'Y') | (newdata['clas'] == 'N')]\n",
        "sentencesMCTI = newdata['opo_texto']\n",
        "labelsMCTI = newdata['clas']"
      ]
    },
    {
      "cell_type": "code",
      "execution_count": null,
      "metadata": {
        "colab": {
          "base_uri": "https://localhost:8080/",
          "height": 530
        },
        "id": "--ltXjTuusPZ",
        "outputId": "9e6f56af-e9f4-411c-93ca-e2ff831505e0"
      },
      "outputs": [
        {
          "data": {
            "image/png": "[encoded data removed]",
            "text/plain": [
              "<Figure size 432x288 with 1 Axes>"
            ]
          },
          "metadata": {},
          "output_type": "display_data"
        },
        {
          "data": {
            "text/plain": [
              "<matplotlib.axes._subplots.AxesSubplot at 0x7ff7acd787d0>"
            ]
          },
          "execution_count": 13,
          "metadata": {},
          "output_type": "execute_result"
        },
        {
          "data": {
            "image/png": "[encoded data removed]",
            "text/plain": [
              "<Figure size 432x288 with 1 Axes>"
            ]
          },
          "metadata": {},
          "output_type": "display_data"
        }
      ],
      "source": [
        "#compare histograms\n",
        "quickHistogram(labelsBBC)\n",
        "\n",
        "dataMCTI['clas'].hist()"
      ]
    },
    {
      "cell_type": "markdown",
      "metadata": {
        "id": "Vv7p80601Gw_"
      },
      "source": [
        "### Train Test Split"
      ]
    },
    {
      "cell_type": "code",
      "execution_count": null,
      "metadata": {
        "id": "atixJfIjyGLP"
      },
      "outputs": [],
      "source": [
        "#BBC\n",
        "x_trainBBC, x_testBBC, y_trainBBC, y_testBBC = train_test_split(sentencesBBC, labelsBBC, test_size=0.20, random_state=32)"
      ]
    },
    {
      "cell_type": "code",
      "execution_count": null,
      "metadata": {
        "id": "8E_bbLy61hqe"
      },
      "outputs": [],
      "source": [
        "#MCTI\n",
        "x_trainMCTI, x_testMCTI, y_trainMCTI, y_testMCTI = train_test_split(sentencesMCTI, labelsMCTI, test_size=0.20, random_state=32)"
      ]
    },
    {
      "cell_type": "markdown",
      "metadata": {
        "id": "ePVKRGi61V5C"
      },
      "source": [
        "Calculando vocab size e aplicando one hot encoding"
      ]
    },
    {
      "cell_type": "code",
      "execution_count": null,
      "metadata": {
        "id": "mMy1KcJNyIF5"
      },
      "outputs": [],
      "source": [
        "alltext = \"\"\n",
        "for s in x_trainBBC:\n",
        "  alltext+= s\n",
        "for s in x_testBBC:\n",
        "  alltext+= s\n",
        "\n",
        "vocab = nltk.word_tokenize(alltext)\n",
        "vocabBBC = set(vocab)"
      ]
    },
    {
      "cell_type": "code",
      "execution_count": null,
      "metadata": {
        "id": "MKGH3d2xypg5"
      },
      "outputs": [],
      "source": [
        "bbc_vocab_size = len(vocabBBC)\n",
        "bbc_encoded_sent_train = [one_hot(i, bbc_vocab_size) for i in x_trainBBC]\n",
        "bbc_encoded_sent_test = [one_hot(i, bbc_vocab_size) for i in x_testBBC]"
      ]
    },
    {
      "cell_type": "code",
      "execution_count": null,
      "metadata": {
        "id": "vzZ3Lrr0yrLI"
      },
      "outputs": [],
      "source": [
        "max_sizeBBC = 0\n",
        "for sent in bbc_encoded_sent_train:\n",
        "  if len(sent) > max_sizeBBC:\n",
        "    max_sizeBBC = len(sent)\n",
        "for sent in bbc_encoded_sent_test:\n",
        "  if len(sent) > max_sizeBBC:\n",
        "    max_sizeBBC = len(sent)"
      ]
    },
    {
      "cell_type": "code",
      "execution_count": null,
      "metadata": {
        "id": "8CWWcTBAzOnB"
      },
      "outputs": [],
      "source": [
        "lengthBBC = max_sizeBBC\n",
        "BBC_train = pad_sequences(bbc_encoded_sent_train, maxlen=lengthBBC, padding='pre')\n",
        "BBC_test = pad_sequences(bbc_encoded_sent_test, maxlen=lengthBBC, padding='pre')"
      ]
    },
    {
      "cell_type": "code",
      "execution_count": null,
      "metadata": {
        "id": "1L0ltJW-3Rrl"
      },
      "outputs": [],
      "source": [
        "alltext = \"\"\n",
        "for s in x_trainMCTI:\n",
        "  alltext+= s\n",
        "for s in x_testMCTI:\n",
        "  alltext+= s\n",
        "\n",
        "vocab = nltk.word_tokenize(alltext)\n",
        "vocabMCTI = set(vocab)"
      ]
    },
    {
      "cell_type": "code",
      "execution_count": null,
      "metadata": {
        "id": "33M2HAIR3eqR"
      },
      "outputs": [],
      "source": [
        "MCTI_vocab_size = len(vocabMCTI)\n",
        "MCTI_encoded_sent_train = [one_hot(i, MCTI_vocab_size) for i in x_trainMCTI]\n",
        "MCTI_encoded_sent_test = [one_hot(i, MCTI_vocab_size) for i in x_testMCTI]"
      ]
    },
    {
      "cell_type": "code",
      "execution_count": null,
      "metadata": {
        "id": "LTlBnS6iqHK8"
      },
      "outputs": [],
      "source": [
        "max_sizeMCTI = 0\n",
        "for sent in MCTI_encoded_sent_train:\n",
        "  if len(sent) > max_sizeMCTI:\n",
        "    max_sizeMCTI = len(sent)\n",
        "for sent in MCTI_encoded_sent_test:\n",
        "  if len(sent) > max_sizeMCTI:\n",
        "    max_sizeMCTI = len(sent)"
      ]
    },
    {
      "cell_type": "code",
      "execution_count": null,
      "metadata": {
        "id": "tKBuZdGIqYY6"
      },
      "outputs": [],
      "source": [
        "lengthMCTI = max_sizeMCTI\n",
        "MCTI_train = pad_sequences(MCTI_encoded_sent_train, maxlen=lengthMCTI, padding='pre')\n",
        "MCTI_test = pad_sequences(MCTI_encoded_sent_test, maxlen=lengthMCTI, padding='pre')"
      ]
    },
    {
      "cell_type": "markdown",
      "metadata": {
        "id": "sWYmNmtxXM48"
      },
      "source": [
        "## Modelo"
      ]
    },
    {
      "cell_type": "code",
      "execution_count": null,
      "metadata": {
        "id": "oO1bQ2AHXOtr"
      },
      "outputs": [],
      "source": [
        "bbcModel = Sequential()\n",
        "bbcModel.add(Embedding(bbc_vocab_size, 8, input_length=lengthBBC))\n",
        "bbcModel.add(Flatten())\n",
        "bbcModel.add(Dense(1, activation='sigmoid'))"
      ]
    },
    {
      "cell_type": "code",
      "execution_count": null,
      "metadata": {
        "colab": {
          "base_uri": "https://localhost:8080/",
          "height": 422
        },
        "id": "bHJC2wlbXRPO",
        "outputId": "9d368f9b-879c-4d08-aff8-df4311186d9d"
      },
      "outputs": [
        {
          "data": {
            "image/png": "[encoded data removed]",
            "text/plain": [
              "<IPython.core.display.Image object>"
            ]
          },
          "execution_count": 22,
          "metadata": {},
          "output_type": "execute_result"
        }
      ],
      "source": [
        "keras.utils.plot_model(bbcModel, show_shapes=True)"
      ]
    },
    {
      "cell_type": "code",
      "execution_count": null,
      "metadata": {
        "colab": {
          "base_uri": "https://localhost:8080/"
        },
        "id": "NiNynp5yXWO0",
        "outputId": "ae0cb957-db6d-444e-8692-d4c40d67127b"
      },
      "outputs": [
        {
          "name": "stdout",
          "output_type": "stream",
          "text": [
            "Epoch 1/100\n",
            "1/3 [=========>....................] - ETA: 1s - loss: 0.6958 - accuracy: 0.4844\n",
            "Epoch 1: val_loss improved from inf to 0.68265, saving model to best weights.h5\n",
            "3/3 [==============================] - 1s 113ms/step - loss: 0.6928 - accuracy: 0.5114 - val_loss: 0.6826 - val_accuracy: 0.5325\n",
            "Epoch 2/100\n",
            "1/3 [=========>....................] - ETA: 0s - loss: 0.6775 - accuracy: 0.5312\n",
            "Epoch 2: val_loss improved from 0.68265 to 0.67493, saving model to best weights.h5\n",
            "3/3 [==============================] - 0s 39ms/step - loss: 0.6732 - accuracy: 0.5472 - val_loss: 0.6749 - val_accuracy: 0.6883\n",
            "Epoch 3/100\n",
            "1/3 [=========>....................] - ETA: 0s - loss: 0.6612 - accuracy: 0.7344\n",
            "Epoch 3: val_loss improved from 0.67493 to 0.66587, saving model to best weights.h5\n",
            "3/3 [==============================] - 0s 40ms/step - loss: 0.6563 - accuracy: 0.7036 - val_loss: 0.6659 - val_accuracy: 0.6883\n",
            "Epoch 4/100\n",
            "1/3 [=========>....................] - ETA: 0s - loss: 0.6451 - accuracy: 0.7188\n",
            "Epoch 4: val_loss improved from 0.66587 to 0.65541, saving model to best weights.h5\n",
            "3/3 [==============================] - 0s 41ms/step - loss: 0.6398 - accuracy: 0.7296 - val_loss: 0.6554 - val_accuracy: 0.6753\n",
            "Epoch 5/100\n",
            "1/3 [=========>....................] - ETA: 0s - loss: 0.6200 - accuracy: 0.7500\n",
            "Epoch 5: val_loss improved from 0.65541 to 0.64461, saving model to best weights.h5\n",
            "3/3 [==============================] - 0s 37ms/step - loss: 0.6188 - accuracy: 0.7394 - val_loss: 0.6446 - val_accuracy: 0.6883\n",
            "Epoch 6/100\n",
            "1/3 [=========>....................] - ETA: 0s - loss: 0.5943 - accuracy: 0.7656\n",
            "Epoch 6: val_loss improved from 0.64461 to 0.63319, saving model to best weights.h5\n",
            "3/3 [==============================] - 0s 39ms/step - loss: 0.6013 - accuracy: 0.7231 - val_loss: 0.6332 - val_accuracy: 0.6364\n",
            "Epoch 7/100\n",
            "1/3 [=========>....................] - ETA: 0s - loss: 0.6029 - accuracy: 0.6797\n",
            "Epoch 7: val_loss did not improve from 0.63319\n",
            "3/3 [==============================] - 0s 30ms/step - loss: 0.6016 - accuracy: 0.6775 - val_loss: 0.6423 - val_accuracy: 0.6234\n",
            "Epoch 8/100\n",
            "1/3 [=========>....................] - ETA: 0s - loss: 0.5795 - accuracy: 0.7422\n",
            "Epoch 8: val_loss improved from 0.63319 to 0.61444, saving model to best weights.h5\n",
            "3/3 [==============================] - 0s 41ms/step - loss: 0.5610 - accuracy: 0.7459 - val_loss: 0.6144 - val_accuracy: 0.7013\n",
            "Epoch 9/100\n",
            "1/3 [=========>....................] - ETA: 0s - loss: 0.5207 - accuracy: 0.7891\n",
            "Epoch 9: val_loss improved from 0.61444 to 0.61147, saving model to best weights.h5\n",
            "3/3 [==============================] - 0s 41ms/step - loss: 0.5420 - accuracy: 0.7427 - val_loss: 0.6115 - val_accuracy: 0.6883\n",
            "Epoch 10/100\n",
            "1/3 [=========>....................] - ETA: 0s - loss: 0.5447 - accuracy: 0.7031\n",
            "Epoch 10: val_loss improved from 0.61147 to 0.59031, saving model to best weights.h5\n",
            "3/3 [==============================] - 0s 43ms/step - loss: 0.5228 - accuracy: 0.7394 - val_loss: 0.5903 - val_accuracy: 0.6623\n",
            "Epoch 11/100\n",
            "1/3 [=========>....................] - ETA: 0s - loss: 0.4899 - accuracy: 0.7969\n",
            "Epoch 11: val_loss improved from 0.59031 to 0.58971, saving model to best weights.h5\n",
            "3/3 [==============================] - 0s 39ms/step - loss: 0.4866 - accuracy: 0.8046 - val_loss: 0.5897 - val_accuracy: 0.6623\n",
            "Epoch 12/100\n",
            "1/3 [=========>....................] - ETA: 0s - loss: 0.4549 - accuracy: 0.8438\n",
            "Epoch 12: val_loss improved from 0.58971 to 0.57409, saving model to best weights.h5\n",
            "3/3 [==============================] - 0s 36ms/step - loss: 0.4707 - accuracy: 0.8371 - val_loss: 0.5741 - val_accuracy: 0.7013\n",
            "Epoch 13/100\n",
            "1/3 [=========>....................] - ETA: 0s - loss: 0.4289 - accuracy: 0.8984\n",
            "Epoch 13: val_loss improved from 0.57409 to 0.55269, saving model to best weights.h5\n",
            "3/3 [==============================] - 0s 37ms/step - loss: 0.4368 - accuracy: 0.8893 - val_loss: 0.5527 - val_accuracy: 0.7403\n",
            "Epoch 14/100\n",
            "1/3 [=========>....................] - ETA: 0s - loss: 0.4141 - accuracy: 0.8672\n",
            "Epoch 14: val_loss improved from 0.55269 to 0.53997, saving model to best weights.h5\n",
            "3/3 [==============================] - 0s 36ms/step - loss: 0.4070 - accuracy: 0.8893 - val_loss: 0.5400 - val_accuracy: 0.7403\n",
            "Epoch 15/100\n",
            "1/3 [=========>....................] - ETA: 0s - loss: 0.3679 - accuracy: 0.9219\n",
            "Epoch 15: val_loss improved from 0.53997 to 0.52272, saving model to best weights.h5\n",
            "3/3 [==============================] - 0s 34ms/step - loss: 0.3801 - accuracy: 0.9283 - val_loss: 0.5227 - val_accuracy: 0.7403\n",
            "Epoch 16/100\n",
            "1/3 [=========>....................] - ETA: 0s - loss: 0.3610 - accuracy: 0.9453\n",
            "Epoch 16: val_loss improved from 0.52272 to 0.50703, saving model to best weights.h5\n",
            "3/3 [==============================] - 0s 48ms/step - loss: 0.3499 - accuracy: 0.9414 - val_loss: 0.5070 - val_accuracy: 0.7922\n",
            "Epoch 17/100\n",
            "1/3 [=========>....................] - ETA: 0s - loss: 0.3338 - accuracy: 0.9297\n",
            "Epoch 17: val_loss improved from 0.50703 to 0.48815, saving model to best weights.h5\n",
            "3/3 [==============================] - 0s 36ms/step - loss: 0.3209 - accuracy: 0.9446 - val_loss: 0.4881 - val_accuracy: 0.8052\n",
            "Epoch 18/100\n",
            "1/3 [=========>....................] - ETA: 0s - loss: 0.3062 - accuracy: 0.9219\n",
            "Epoch 18: val_loss improved from 0.48815 to 0.47114, saving model to best weights.h5\n",
            "3/3 [==============================] - 0s 41ms/step - loss: 0.2915 - accuracy: 0.9609 - val_loss: 0.4711 - val_accuracy: 0.7922\n",
            "Epoch 19/100\n",
            "1/3 [=========>....................] - ETA: 0s - loss: 0.2580 - accuracy: 0.9688\n",
            "Epoch 19: val_loss improved from 0.47114 to 0.45416, saving model to best weights.h5\n",
            "3/3 [==============================] - 0s 37ms/step - loss: 0.2645 - accuracy: 0.9707 - val_loss: 0.4542 - val_accuracy: 0.8052\n",
            "Epoch 20/100\n",
            "1/3 [=========>....................] - ETA: 0s - loss: 0.2267 - accuracy: 0.9844\n",
            "Epoch 20: val_loss improved from 0.45416 to 0.43230, saving model to best weights.h5\n",
            "3/3 [==============================] - 0s 37ms/step - loss: 0.2384 - accuracy: 0.9739 - val_loss: 0.4323 - val_accuracy: 0.8312\n",
            "Epoch 21/100\n",
            "1/3 [=========>....................] - ETA: 0s - loss: 0.2204 - accuracy: 0.9688\n",
            "Epoch 21: val_loss improved from 0.43230 to 0.41220, saving model to best weights.h5\n",
            "3/3 [==============================] - 0s 38ms/step - loss: 0.2130 - accuracy: 0.9739 - val_loss: 0.4122 - val_accuracy: 0.8571\n",
            "Epoch 22/100\n",
            "1/3 [=========>....................] - ETA: 0s - loss: 0.1993 - accuracy: 0.9609\n",
            "Epoch 22: val_loss improved from 0.41220 to 0.39315, saving model to best weights.h5\n",
            "3/3 [==============================] - 0s 36ms/step - loss: 0.1920 - accuracy: 0.9707 - val_loss: 0.3932 - val_accuracy: 0.8571\n",
            "Epoch 23/100\n",
            "1/3 [=========>....................] - ETA: 0s - loss: 0.1790 - accuracy: 0.9688\n",
            "Epoch 23: val_loss improved from 0.39315 to 0.37665, saving model to best weights.h5\n",
            "3/3 [==============================] - 0s 41ms/step - loss: 0.1700 - accuracy: 0.9805 - val_loss: 0.3766 - val_accuracy: 0.8701\n",
            "Epoch 24/100\n",
            "1/3 [=========>....................] - ETA: 0s - loss: 0.1682 - accuracy: 0.9844\n",
            "Epoch 24: val_loss improved from 0.37665 to 0.36394, saving model to best weights.h5\n",
            "3/3 [==============================] - 0s 37ms/step - loss: 0.1500 - accuracy: 0.9902 - val_loss: 0.3639 - val_accuracy: 0.8701\n",
            "Epoch 25/100\n",
            "1/3 [=========>....................] - ETA: 0s - loss: 0.1428 - accuracy: 0.9922\n",
            "Epoch 25: val_loss improved from 0.36394 to 0.34929, saving model to best weights.h5\n",
            "3/3 [==============================] - 0s 40ms/step - loss: 0.1340 - accuracy: 0.9902 - val_loss: 0.3493 - val_accuracy: 0.8831\n",
            "Epoch 26/100\n",
            "1/3 [=========>....................] - ETA: 0s - loss: 0.1297 - accuracy: 0.9922\n",
            "Epoch 26: val_loss improved from 0.34929 to 0.33225, saving model to best weights.h5\n",
            "3/3 [==============================] - 0s 36ms/step - loss: 0.1194 - accuracy: 0.9935 - val_loss: 0.3323 - val_accuracy: 0.9091\n",
            "Epoch 27/100\n",
            "1/3 [=========>....................] - ETA: 0s - loss: 0.1014 - accuracy: 1.0000\n",
            "Epoch 27: val_loss improved from 0.33225 to 0.31401, saving model to best weights.h5\n",
            "3/3 [==============================] - 0s 40ms/step - loss: 0.1057 - accuracy: 0.9935 - val_loss: 0.3140 - val_accuracy: 0.9221\n",
            "Epoch 28/100\n",
            "1/3 [=========>....................] - ETA: 0s - loss: 0.0926 - accuracy: 0.9922\n",
            "Epoch 28: val_loss improved from 0.31401 to 0.29897, saving model to best weights.h5\n",
            "3/3 [==============================] - 0s 37ms/step - loss: 0.0945 - accuracy: 0.9935 - val_loss: 0.2990 - val_accuracy: 0.9221\n",
            "Epoch 29/100\n",
            "1/3 [=========>....................] - ETA: 0s - loss: 0.0950 - accuracy: 0.9844\n",
            "Epoch 29: val_loss improved from 0.29897 to 0.28861, saving model to best weights.h5\n",
            "3/3 [==============================] - 0s 44ms/step - loss: 0.0844 - accuracy: 0.9935 - val_loss: 0.2886 - val_accuracy: 0.9221\n",
            "Epoch 30/100\n",
            "1/3 [=========>....................] - ETA: 0s - loss: 0.0789 - accuracy: 0.9922\n",
            "Epoch 30: val_loss improved from 0.28861 to 0.27922, saving model to best weights.h5\n",
            "3/3 [==============================] - 0s 43ms/step - loss: 0.0752 - accuracy: 0.9967 - val_loss: 0.2792 - val_accuracy: 0.9221\n",
            "Epoch 31/100\n",
            "1/3 [=========>....................] - ETA: 0s - loss: 0.0591 - accuracy: 1.0000\n",
            "Epoch 31: val_loss improved from 0.27922 to 0.27008, saving model to best weights.h5\n",
            "3/3 [==============================] - 0s 39ms/step - loss: 0.0675 - accuracy: 0.9967 - val_loss: 0.2701 - val_accuracy: 0.9221\n",
            "Epoch 32/100\n",
            "1/3 [=========>....................] - ETA: 0s - loss: 0.0575 - accuracy: 1.0000\n",
            "Epoch 32: val_loss improved from 0.27008 to 0.25983, saving model to best weights.h5\n",
            "3/3 [==============================] - 0s 37ms/step - loss: 0.0609 - accuracy: 0.9967 - val_loss: 0.2598 - val_accuracy: 0.9221\n",
            "Epoch 33/100\n",
            "1/3 [=========>....................] - ETA: 0s - loss: 0.0571 - accuracy: 1.0000\n",
            "Epoch 33: val_loss improved from 0.25983 to 0.25045, saving model to best weights.h5\n",
            "3/3 [==============================] - 0s 37ms/step - loss: 0.0550 - accuracy: 1.0000 - val_loss: 0.2504 - val_accuracy: 0.9351\n",
            "Epoch 34/100\n",
            "1/3 [=========>....................] - ETA: 0s - loss: 0.0545 - accuracy: 1.0000\n",
            "Epoch 34: val_loss improved from 0.25045 to 0.24272, saving model to best weights.h5\n",
            "3/3 [==============================] - 0s 36ms/step - loss: 0.0499 - accuracy: 1.0000 - val_loss: 0.2427 - val_accuracy: 0.9351\n",
            "Epoch 35/100\n",
            "1/3 [=========>....................] - ETA: 0s - loss: 0.0446 - accuracy: 1.0000\n",
            "Epoch 35: val_loss improved from 0.24272 to 0.23545, saving model to best weights.h5\n",
            "3/3 [==============================] - 0s 35ms/step - loss: 0.0454 - accuracy: 1.0000 - val_loss: 0.2354 - val_accuracy: 0.9481\n",
            "Epoch 36/100\n",
            "1/3 [=========>....................] - ETA: 0s - loss: 0.0365 - accuracy: 1.0000\n",
            "Epoch 36: val_loss improved from 0.23545 to 0.22946, saving model to best weights.h5\n",
            "3/3 [==============================] - 0s 40ms/step - loss: 0.0415 - accuracy: 1.0000 - val_loss: 0.2295 - val_accuracy: 0.9481\n",
            "Epoch 37/100\n",
            "1/3 [=========>....................] - ETA: 0s - loss: 0.0393 - accuracy: 1.0000\n",
            "Epoch 37: val_loss improved from 0.22946 to 0.22513, saving model to best weights.h5\n",
            "3/3 [==============================] - 0s 38ms/step - loss: 0.0381 - accuracy: 1.0000 - val_loss: 0.2251 - val_accuracy: 0.9481\n",
            "Epoch 38/100\n",
            "1/3 [=========>....................] - ETA: 0s - loss: 0.0354 - accuracy: 1.0000\n",
            "Epoch 38: val_loss improved from 0.22513 to 0.22088, saving model to best weights.h5\n",
            "3/3 [==============================] - 0s 39ms/step - loss: 0.0350 - accuracy: 1.0000 - val_loss: 0.2209 - val_accuracy: 0.9481\n",
            "Epoch 39/100\n",
            "1/3 [=========>....................] - ETA: 0s - loss: 0.0259 - accuracy: 1.0000\n",
            "Epoch 39: val_loss improved from 0.22088 to 0.21742, saving model to best weights.h5\n",
            "3/3 [==============================] - 0s 38ms/step - loss: 0.0322 - accuracy: 1.0000 - val_loss: 0.2174 - val_accuracy: 0.9481\n",
            "Epoch 40/100\n",
            "1/3 [=========>....................] - ETA: 0s - loss: 0.0327 - accuracy: 1.0000\n",
            "Epoch 40: val_loss improved from 0.21742 to 0.21392, saving model to best weights.h5\n",
            "3/3 [==============================] - 0s 38ms/step - loss: 0.0299 - accuracy: 1.0000 - val_loss: 0.2139 - val_accuracy: 0.9351\n",
            "Epoch 41/100\n",
            "1/3 [=========>....................] - ETA: 0s - loss: 0.0283 - accuracy: 1.0000\n",
            "Epoch 41: val_loss improved from 0.21392 to 0.20952, saving model to best weights.h5\n",
            "3/3 [==============================] - 0s 48ms/step - loss: 0.0278 - accuracy: 1.0000 - val_loss: 0.2095 - val_accuracy: 0.9481\n",
            "Epoch 42/100\n",
            "1/3 [=========>....................] - ETA: 0s - loss: 0.0288 - accuracy: 1.0000\n",
            "Epoch 42: val_loss improved from 0.20952 to 0.20491, saving model to best weights.h5\n",
            "3/3 [==============================] - 0s 42ms/step - loss: 0.0258 - accuracy: 1.0000 - val_loss: 0.2049 - val_accuracy: 0.9481\n",
            "Epoch 43/100\n",
            "1/3 [=========>....................] - ETA: 0s - loss: 0.0227 - accuracy: 1.0000\n",
            "Epoch 43: val_loss improved from 0.20491 to 0.19959, saving model to best weights.h5\n",
            "3/3 [==============================] - 0s 39ms/step - loss: 0.0240 - accuracy: 1.0000 - val_loss: 0.1996 - val_accuracy: 0.9481\n",
            "Epoch 44/100\n",
            "1/3 [=========>....................] - ETA: 0s - loss: 0.0231 - accuracy: 1.0000\n",
            "Epoch 44: val_loss improved from 0.19959 to 0.19497, saving model to best weights.h5\n",
            "3/3 [==============================] - 0s 35ms/step - loss: 0.0225 - accuracy: 1.0000 - val_loss: 0.1950 - val_accuracy: 0.9481\n",
            "Epoch 45/100\n",
            "1/3 [=========>....................] - ETA: 0s - loss: 0.0227 - accuracy: 1.0000\n",
            "Epoch 45: val_loss improved from 0.19497 to 0.19080, saving model to best weights.h5\n",
            "3/3 [==============================] - 0s 40ms/step - loss: 0.0211 - accuracy: 1.0000 - val_loss: 0.1908 - val_accuracy: 0.9481\n",
            "Epoch 46/100\n",
            "1/3 [=========>....................] - ETA: 0s - loss: 0.0202 - accuracy: 1.0000\n",
            "Epoch 46: val_loss improved from 0.19080 to 0.18717, saving model to best weights.h5\n",
            "3/3 [==============================] - 0s 43ms/step - loss: 0.0198 - accuracy: 1.0000 - val_loss: 0.1872 - val_accuracy: 0.9481\n",
            "Epoch 47/100\n",
            "1/3 [=========>....................] - ETA: 0s - loss: 0.0157 - accuracy: 1.0000\n",
            "Epoch 47: val_loss improved from 0.18717 to 0.18430, saving model to best weights.h5\n",
            "3/3 [==============================] - 0s 42ms/step - loss: 0.0187 - accuracy: 1.0000 - val_loss: 0.1843 - val_accuracy: 0.9481\n",
            "Epoch 48/100\n",
            "1/3 [=========>....................] - ETA: 0s - loss: 0.0191 - accuracy: 1.0000\n",
            "Epoch 48: val_loss improved from 0.18430 to 0.18214, saving model to best weights.h5\n",
            "3/3 [==============================] - 0s 39ms/step - loss: 0.0176 - accuracy: 1.0000 - val_loss: 0.1821 - val_accuracy: 0.9481\n",
            "Epoch 49/100\n",
            "1/3 [=========>....................] - ETA: 0s - loss: 0.0169 - accuracy: 1.0000\n",
            "Epoch 49: val_loss improved from 0.18214 to 0.18054, saving model to best weights.h5\n",
            "3/3 [==============================] - 0s 39ms/step - loss: 0.0167 - accuracy: 1.0000 - val_loss: 0.1805 - val_accuracy: 0.9481\n",
            "Epoch 50/100\n",
            "1/3 [=========>....................] - ETA: 0s - loss: 0.0168 - accuracy: 1.0000\n",
            "Epoch 50: val_loss improved from 0.18054 to 0.17922, saving model to best weights.h5\n",
            "3/3 [==============================] - 0s 40ms/step - loss: 0.0158 - accuracy: 1.0000 - val_loss: 0.1792 - val_accuracy: 0.9481\n",
            "Epoch 51/100\n",
            "1/3 [=========>....................] - ETA: 0s - loss: 0.0170 - accuracy: 1.0000\n",
            "Epoch 51: val_loss improved from 0.17922 to 0.17796, saving model to best weights.h5\n",
            "3/3 [==============================] - 0s 36ms/step - loss: 0.0150 - accuracy: 1.0000 - val_loss: 0.1780 - val_accuracy: 0.9481\n",
            "Epoch 52/100\n",
            "1/3 [=========>....................] - ETA: 0s - loss: 0.0135 - accuracy: 1.0000\n",
            "Epoch 52: val_loss improved from 0.17796 to 0.17625, saving model to best weights.h5\n",
            "3/3 [==============================] - 0s 40ms/step - loss: 0.0142 - accuracy: 1.0000 - val_loss: 0.1763 - val_accuracy: 0.9481\n",
            "Epoch 53/100\n",
            "1/3 [=========>....................] - ETA: 0s - loss: 0.0141 - accuracy: 1.0000\n",
            "Epoch 53: val_loss improved from 0.17625 to 0.17441, saving model to best weights.h5\n",
            "3/3 [==============================] - 0s 36ms/step - loss: 0.0135 - accuracy: 1.0000 - val_loss: 0.1744 - val_accuracy: 0.9481\n",
            "Epoch 54/100\n",
            "1/3 [=========>....................] - ETA: 0s - loss: 0.0131 - accuracy: 1.0000\n",
            "Epoch 54: val_loss improved from 0.17441 to 0.17228, saving model to best weights.h5\n",
            "3/3 [==============================] - 0s 43ms/step - loss: 0.0129 - accuracy: 1.0000 - val_loss: 0.1723 - val_accuracy: 0.9481\n",
            "Epoch 55/100\n",
            "1/3 [=========>....................] - ETA: 0s - loss: 0.0118 - accuracy: 1.0000\n",
            "Epoch 55: val_loss improved from 0.17228 to 0.16971, saving model to best weights.h5\n",
            "3/3 [==============================] - 0s 55ms/step - loss: 0.0123 - accuracy: 1.0000 - val_loss: 0.1697 - val_accuracy: 0.9481\n",
            "Epoch 56/100\n",
            "1/3 [=========>....................] - ETA: 0s - loss: 0.0127 - accuracy: 1.0000\n",
            "Epoch 56: val_loss improved from 0.16971 to 0.16751, saving model to best weights.h5\n",
            "3/3 [==============================] - 0s 38ms/step - loss: 0.0117 - accuracy: 1.0000 - val_loss: 0.1675 - val_accuracy: 0.9481\n",
            "Epoch 57/100\n",
            "1/3 [=========>....................] - ETA: 0s - loss: 0.0118 - accuracy: 1.0000\n",
            "Epoch 57: val_loss improved from 0.16751 to 0.16513, saving model to best weights.h5\n",
            "3/3 [==============================] - 0s 39ms/step - loss: 0.0112 - accuracy: 1.0000 - val_loss: 0.1651 - val_accuracy: 0.9481\n",
            "Epoch 58/100\n",
            "1/3 [=========>....................] - ETA: 0s - loss: 0.0089 - accuracy: 1.0000\n",
            "Epoch 58: val_loss improved from 0.16513 to 0.16333, saving model to best weights.h5\n",
            "3/3 [==============================] - 0s 36ms/step - loss: 0.0107 - accuracy: 1.0000 - val_loss: 0.1633 - val_accuracy: 0.9481\n",
            "Epoch 59/100\n",
            "1/3 [=========>....................] - ETA: 0s - loss: 0.0104 - accuracy: 1.0000\n",
            "Epoch 59: val_loss improved from 0.16333 to 0.16261, saving model to best weights.h5\n",
            "3/3 [==============================] - 0s 36ms/step - loss: 0.0103 - accuracy: 1.0000 - val_loss: 0.1626 - val_accuracy: 0.9481\n",
            "Epoch 60/100\n",
            "1/3 [=========>....................] - ETA: 0s - loss: 0.0095 - accuracy: 1.0000\n",
            "Epoch 60: val_loss improved from 0.16261 to 0.16184, saving model to best weights.h5\n",
            "3/3 [==============================] - 0s 36ms/step - loss: 0.0098 - accuracy: 1.0000 - val_loss: 0.1618 - val_accuracy: 0.9481\n",
            "Epoch 61/100\n",
            "1/3 [=========>....................] - ETA: 0s - loss: 0.0092 - accuracy: 1.0000\n",
            "Epoch 61: val_loss improved from 0.16184 to 0.16107, saving model to best weights.h5\n",
            "3/3 [==============================] - 0s 40ms/step - loss: 0.0094 - accuracy: 1.0000 - val_loss: 0.1611 - val_accuracy: 0.9481\n",
            "Epoch 62/100\n",
            "1/3 [=========>....................] - ETA: 0s - loss: 0.0092 - accuracy: 1.0000\n",
            "Epoch 62: val_loss improved from 0.16107 to 0.16019, saving model to best weights.h5\n",
            "3/3 [==============================] - 0s 38ms/step - loss: 0.0091 - accuracy: 1.0000 - val_loss: 0.1602 - val_accuracy: 0.9481\n",
            "Epoch 63/100\n",
            "1/3 [=========>....................] - ETA: 0s - loss: 0.0094 - accuracy: 1.0000\n",
            "Epoch 63: val_loss improved from 0.16019 to 0.15890, saving model to best weights.h5\n",
            "3/3 [==============================] - 0s 36ms/step - loss: 0.0087 - accuracy: 1.0000 - val_loss: 0.1589 - val_accuracy: 0.9481\n",
            "Epoch 64/100\n",
            "1/3 [=========>....................] - ETA: 0s - loss: 0.0080 - accuracy: 1.0000\n",
            "Epoch 64: val_loss improved from 0.15890 to 0.15741, saving model to best weights.h5\n",
            "3/3 [==============================] - 0s 41ms/step - loss: 0.0084 - accuracy: 1.0000 - val_loss: 0.1574 - val_accuracy: 0.9481\n",
            "Epoch 65/100\n",
            "1/3 [=========>....................] - ETA: 0s - loss: 0.0085 - accuracy: 1.0000\n",
            "Epoch 65: val_loss improved from 0.15741 to 0.15601, saving model to best weights.h5\n",
            "3/3 [==============================] - 0s 39ms/step - loss: 0.0081 - accuracy: 1.0000 - val_loss: 0.1560 - val_accuracy: 0.9481\n",
            "Epoch 66/100\n",
            "1/3 [=========>....................] - ETA: 0s - loss: 0.0073 - accuracy: 1.0000\n",
            "Epoch 66: val_loss improved from 0.15601 to 0.15457, saving model to best weights.h5\n",
            "3/3 [==============================] - 0s 40ms/step - loss: 0.0078 - accuracy: 1.0000 - val_loss: 0.1546 - val_accuracy: 0.9481\n",
            "Epoch 67/100\n",
            "1/3 [=========>....................] - ETA: 0s - loss: 0.0075 - accuracy: 1.0000\n",
            "Epoch 67: val_loss improved from 0.15457 to 0.15305, saving model to best weights.h5\n",
            "3/3 [==============================] - 0s 38ms/step - loss: 0.0075 - accuracy: 1.0000 - val_loss: 0.1530 - val_accuracy: 0.9481\n",
            "Epoch 68/100\n",
            "1/3 [=========>....................] - ETA: 0s - loss: 0.0082 - accuracy: 1.0000\n",
            "Epoch 68: val_loss improved from 0.15305 to 0.15163, saving model to best weights.h5\n",
            "3/3 [==============================] - 0s 39ms/step - loss: 0.0073 - accuracy: 1.0000 - val_loss: 0.1516 - val_accuracy: 0.9481\n",
            "Epoch 69/100\n",
            "1/3 [=========>....................] - ETA: 0s - loss: 0.0070 - accuracy: 1.0000\n",
            "Epoch 69: val_loss improved from 0.15163 to 0.15012, saving model to best weights.h5\n",
            "3/3 [==============================] - 0s 38ms/step - loss: 0.0070 - accuracy: 1.0000 - val_loss: 0.1501 - val_accuracy: 0.9481\n",
            "Epoch 70/100\n",
            "1/3 [=========>....................] - ETA: 0s - loss: 0.0062 - accuracy: 1.0000\n",
            "Epoch 70: val_loss improved from 0.15012 to 0.14869, saving model to best weights.h5\n",
            "3/3 [==============================] - 0s 36ms/step - loss: 0.0068 - accuracy: 1.0000 - val_loss: 0.1487 - val_accuracy: 0.9610\n",
            "Epoch 71/100\n",
            "1/3 [=========>....................] - ETA: 0s - loss: 0.0069 - accuracy: 1.0000\n",
            "Epoch 71: val_loss improved from 0.14869 to 0.14754, saving model to best weights.h5\n",
            "3/3 [==============================] - 0s 39ms/step - loss: 0.0066 - accuracy: 1.0000 - val_loss: 0.1475 - val_accuracy: 0.9610\n",
            "Epoch 72/100\n",
            "1/3 [=========>....................] - ETA: 0s - loss: 0.0065 - accuracy: 1.0000\n",
            "Epoch 72: val_loss improved from 0.14754 to 0.14680, saving model to best weights.h5\n",
            "3/3 [==============================] - 0s 39ms/step - loss: 0.0064 - accuracy: 1.0000 - val_loss: 0.1468 - val_accuracy: 0.9610\n",
            "Epoch 73/100\n",
            "1/3 [=========>....................] - ETA: 0s - loss: 0.0059 - accuracy: 1.0000\n",
            "Epoch 73: val_loss improved from 0.14680 to 0.14604, saving model to best weights.h5\n",
            "3/3 [==============================] - 0s 39ms/step - loss: 0.0062 - accuracy: 1.0000 - val_loss: 0.1460 - val_accuracy: 0.9610\n",
            "Epoch 74/100\n",
            "1/3 [=========>....................] - ETA: 0s - loss: 0.0062 - accuracy: 1.0000\n",
            "Epoch 74: val_loss improved from 0.14604 to 0.14518, saving model to best weights.h5\n",
            "3/3 [==============================] - 0s 41ms/step - loss: 0.0060 - accuracy: 1.0000 - val_loss: 0.1452 - val_accuracy: 0.9610\n",
            "Epoch 75/100\n",
            "1/3 [=========>....................] - ETA: 0s - loss: 0.0061 - accuracy: 1.0000\n",
            "Epoch 75: val_loss improved from 0.14518 to 0.14443, saving model to best weights.h5\n",
            "3/3 [==============================] - 0s 40ms/step - loss: 0.0058 - accuracy: 1.0000 - val_loss: 0.1444 - val_accuracy: 0.9610\n",
            "Epoch 76/100\n",
            "1/3 [=========>....................] - ETA: 0s - loss: 0.0057 - accuracy: 1.0000\n",
            "Epoch 76: val_loss improved from 0.14443 to 0.14360, saving model to best weights.h5\n",
            "3/3 [==============================] - 0s 40ms/step - loss: 0.0056 - accuracy: 1.0000 - val_loss: 0.1436 - val_accuracy: 0.9610\n",
            "Epoch 77/100\n",
            "1/3 [=========>....................] - ETA: 0s - loss: 0.0060 - accuracy: 1.0000\n",
            "Epoch 77: val_loss improved from 0.14360 to 0.14293, saving model to best weights.h5\n",
            "3/3 [==============================] - 0s 41ms/step - loss: 0.0055 - accuracy: 1.0000 - val_loss: 0.1429 - val_accuracy: 0.9610\n",
            "Epoch 78/100\n",
            "1/3 [=========>....................] - ETA: 0s - loss: 0.0053 - accuracy: 1.0000\n",
            "Epoch 78: val_loss improved from 0.14293 to 0.14223, saving model to best weights.h5\n",
            "3/3 [==============================] - 0s 37ms/step - loss: 0.0053 - accuracy: 1.0000 - val_loss: 0.1422 - val_accuracy: 0.9610\n",
            "Epoch 79/100\n",
            "1/3 [=========>....................] - ETA: 0s - loss: 0.0047 - accuracy: 1.0000\n",
            "Epoch 79: val_loss improved from 0.14223 to 0.14160, saving model to best weights.h5\n",
            "3/3 [==============================] - 0s 37ms/step - loss: 0.0051 - accuracy: 1.0000 - val_loss: 0.1416 - val_accuracy: 0.9610\n",
            "Epoch 80/100\n",
            "1/3 [=========>....................] - ETA: 0s - loss: 0.0049 - accuracy: 1.0000\n",
            "Epoch 80: val_loss improved from 0.14160 to 0.14100, saving model to best weights.h5\n",
            "3/3 [==============================] - 0s 36ms/step - loss: 0.0050 - accuracy: 1.0000 - val_loss: 0.1410 - val_accuracy: 0.9610\n",
            "Epoch 81/100\n",
            "1/3 [=========>....................] - ETA: 0s - loss: 0.0046 - accuracy: 1.0000\n",
            "Epoch 81: val_loss improved from 0.14100 to 0.14059, saving model to best weights.h5\n",
            "3/3 [==============================] - 0s 39ms/step - loss: 0.0049 - accuracy: 1.0000 - val_loss: 0.1406 - val_accuracy: 0.9610\n",
            "Epoch 82/100\n",
            "1/3 [=========>....................] - ETA: 0s - loss: 0.0043 - accuracy: 1.0000\n",
            "Epoch 82: val_loss improved from 0.14059 to 0.14016, saving model to best weights.h5\n",
            "3/3 [==============================] - 0s 40ms/step - loss: 0.0047 - accuracy: 1.0000 - val_loss: 0.1402 - val_accuracy: 0.9610\n",
            "Epoch 83/100\n",
            "1/3 [=========>....................] - ETA: 0s - loss: 0.0044 - accuracy: 1.0000\n",
            "Epoch 83: val_loss improved from 0.14016 to 0.13963, saving model to best weights.h5\n",
            "3/3 [==============================] - 0s 44ms/step - loss: 0.0046 - accuracy: 1.0000 - val_loss: 0.1396 - val_accuracy: 0.9610\n",
            "Epoch 84/100\n",
            "1/3 [=========>....................] - ETA: 0s - loss: 0.0048 - accuracy: 1.0000\n",
            "Epoch 84: val_loss improved from 0.13963 to 0.13868, saving model to best weights.h5\n",
            "3/3 [==============================] - 0s 40ms/step - loss: 0.0045 - accuracy: 1.0000 - val_loss: 0.1387 - val_accuracy: 0.9610\n",
            "Epoch 85/100\n",
            "1/3 [=========>....................] - ETA: 0s - loss: 0.0046 - accuracy: 1.0000\n",
            "Epoch 85: val_loss improved from 0.13868 to 0.13741, saving model to best weights.h5\n",
            "3/3 [==============================] - 0s 41ms/step - loss: 0.0044 - accuracy: 1.0000 - val_loss: 0.1374 - val_accuracy: 0.9610\n",
            "Epoch 86/100\n",
            "1/3 [=========>....................] - ETA: 0s - loss: 0.0045 - accuracy: 1.0000\n",
            "Epoch 86: val_loss improved from 0.13741 to 0.13594, saving model to best weights.h5\n",
            "3/3 [==============================] - 0s 38ms/step - loss: 0.0043 - accuracy: 1.0000 - val_loss: 0.1359 - val_accuracy: 0.9610\n",
            "Epoch 87/100\n",
            "1/3 [=========>....................] - ETA: 0s - loss: 0.0043 - accuracy: 1.0000\n",
            "Epoch 87: val_loss improved from 0.13594 to 0.13474, saving model to best weights.h5\n",
            "3/3 [==============================] - 0s 37ms/step - loss: 0.0042 - accuracy: 1.0000 - val_loss: 0.1347 - val_accuracy: 0.9610\n",
            "Epoch 88/100\n",
            "1/3 [=========>....................] - ETA: 0s - loss: 0.0046 - accuracy: 1.0000\n",
            "Epoch 88: val_loss improved from 0.13474 to 0.13380, saving model to best weights.h5\n",
            "3/3 [==============================] - 0s 40ms/step - loss: 0.0041 - accuracy: 1.0000 - val_loss: 0.1338 - val_accuracy: 0.9610\n",
            "Epoch 89/100\n",
            "1/3 [=========>....................] - ETA: 0s - loss: 0.0038 - accuracy: 1.0000\n",
            "Epoch 89: val_loss improved from 0.13380 to 0.13282, saving model to best weights.h5\n",
            "3/3 [==============================] - 0s 45ms/step - loss: 0.0040 - accuracy: 1.0000 - val_loss: 0.1328 - val_accuracy: 0.9610\n",
            "Epoch 90/100\n",
            "1/3 [=========>....................] - ETA: 0s - loss: 0.0036 - accuracy: 1.0000\n",
            "Epoch 90: val_loss improved from 0.13282 to 0.13234, saving model to best weights.h5\n",
            "3/3 [==============================] - 0s 38ms/step - loss: 0.0039 - accuracy: 1.0000 - val_loss: 0.1323 - val_accuracy: 0.9610\n",
            "Epoch 91/100\n",
            "1/3 [=========>....................] - ETA: 0s - loss: 0.0035 - accuracy: 1.0000\n",
            "Epoch 91: val_loss improved from 0.13234 to 0.13211, saving model to best weights.h5\n",
            "3/3 [==============================] - 0s 37ms/step - loss: 0.0038 - accuracy: 1.0000 - val_loss: 0.1321 - val_accuracy: 0.9610\n",
            "Epoch 92/100\n",
            "1/3 [=========>....................] - ETA: 0s - loss: 0.0038 - accuracy: 1.0000\n",
            "Epoch 92: val_loss improved from 0.13211 to 0.13203, saving model to best weights.h5\n",
            "3/3 [==============================] - 0s 41ms/step - loss: 0.0037 - accuracy: 1.0000 - val_loss: 0.1320 - val_accuracy: 0.9610\n",
            "Epoch 93/100\n",
            "1/3 [=========>....................] - ETA: 0s - loss: 0.0035 - accuracy: 1.0000\n",
            "Epoch 93: val_loss improved from 0.13203 to 0.13187, saving model to best weights.h5\n",
            "3/3 [==============================] - 0s 38ms/step - loss: 0.0036 - accuracy: 1.0000 - val_loss: 0.1319 - val_accuracy: 0.9610\n",
            "Epoch 94/100\n",
            "1/3 [=========>....................] - ETA: 0s - loss: 0.0036 - accuracy: 1.0000\n",
            "Epoch 94: val_loss improved from 0.13187 to 0.13167, saving model to best weights.h5\n",
            "3/3 [==============================] - 0s 37ms/step - loss: 0.0035 - accuracy: 1.0000 - val_loss: 0.1317 - val_accuracy: 0.9610\n",
            "Epoch 95/100\n",
            "1/3 [=========>....................] - ETA: 0s - loss: 0.0040 - accuracy: 1.0000\n",
            "Epoch 95: val_loss improved from 0.13167 to 0.13157, saving model to best weights.h5\n",
            "3/3 [==============================] - 0s 36ms/step - loss: 0.0034 - accuracy: 1.0000 - val_loss: 0.1316 - val_accuracy: 0.9610\n",
            "Epoch 96/100\n",
            "1/3 [=========>....................] - ETA: 0s - loss: 0.0035 - accuracy: 1.0000\n",
            "Epoch 96: val_loss improved from 0.13157 to 0.13143, saving model to best weights.h5\n",
            "3/3 [==============================] - 0s 39ms/step - loss: 0.0034 - accuracy: 1.0000 - val_loss: 0.1314 - val_accuracy: 0.9610\n",
            "Epoch 97/100\n",
            "1/3 [=========>....................] - ETA: 0s - loss: 0.0032 - accuracy: 1.0000\n",
            "Epoch 97: val_loss improved from 0.13143 to 0.13103, saving model to best weights.h5\n",
            "3/3 [==============================] - 0s 38ms/step - loss: 0.0033 - accuracy: 1.0000 - val_loss: 0.1310 - val_accuracy: 0.9610\n",
            "Epoch 98/100\n",
            "1/3 [=========>....................] - ETA: 0s - loss: 0.0031 - accuracy: 1.0000\n",
            "Epoch 98: val_loss improved from 0.13103 to 0.13047, saving model to best weights.h5\n",
            "3/3 [==============================] - 0s 38ms/step - loss: 0.0032 - accuracy: 1.0000 - val_loss: 0.1305 - val_accuracy: 0.9610\n",
            "Epoch 99/100\n",
            "1/3 [=========>....................] - ETA: 0s - loss: 0.0036 - accuracy: 1.0000\n",
            "Epoch 99: val_loss improved from 0.13047 to 0.12989, saving model to best weights.h5\n",
            "3/3 [==============================] - 0s 42ms/step - loss: 0.0032 - accuracy: 1.0000 - val_loss: 0.1299 - val_accuracy: 0.9610\n",
            "Epoch 100/100\n",
            "1/3 [=========>....................] - ETA: 0s - loss: 0.0029 - accuracy: 1.0000\n",
            "Epoch 100: val_loss improved from 0.12989 to 0.12919, saving model to best weights.h5\n",
            "3/3 [==============================] - 0s 42ms/step - loss: 0.0031 - accuracy: 1.0000 - val_loss: 0.1292 - val_accuracy: 0.9610\n",
            "Accuracy: 96.103895\n"
          ]
        }
      ],
      "source": [
        "# add checkpoint to save the network and stop if training doesn't improve\n",
        "filepath = \"best weights.h5\"\n",
        "checkpoint = keras.callbacks.ModelCheckpoint(filepath, monitor='val_loss', verbose=1, \n",
        "                             save_best_only=True, mode='min')\n",
        "earlystop = keras.callbacks.EarlyStopping(monitor='val_loss', patience=50)\n",
        "callbacks_list = [checkpoint, earlystop]\n",
        "\n",
        "bbcModel.compile(optimizer='adam', loss='binary_crossentropy', metrics=['accuracy'])\n",
        "\n",
        "# fiting  the model\n",
        "historyBBC = bbcModel.fit(BBC_train, y_trainBBC, epochs=100, callbacks=callbacks_list, verbose=True, validation_data=(BBC_test, y_testBBC), batch_size=128)\n",
        "\n",
        "# evaluate the model\n",
        "modelloss, modelaccuracy = bbcModel.evaluate(BBC_test, y_testBBC, verbose=0)\n",
        "print('Accuracy: %f' % (modelaccuracy*100))"
      ]
    },
    {
      "cell_type": "code",
      "execution_count": null,
      "metadata": {
        "colab": {
          "base_uri": "https://localhost:8080/",
          "height": 337
        },
        "id": "YI1OdGKfYCSb",
        "outputId": "f11d387e-87e6-4540-b2a7-0fa2b92ed7b6"
      },
      "outputs": [
        {
          "data": {
            "image/png": "[encoded data removed]",
            "text/plain": [
              "<Figure size 864x360 with 2 Axes>"
            ]
          },
          "metadata": {},
          "output_type": "display_data"
        }
      ],
      "source": [
        "plot_history(historyBBC)"
      ]
    },
    {
      "cell_type": "code",
      "execution_count": null,
      "metadata": {
        "id": "PumE86FwI8Ki"
      },
      "outputs": [],
      "source": [
        "mctiModel = Sequential()\n",
        "mctiModel.add(Embedding(MCTI_vocab_size, 8, input_length=lengthMCTI))\n",
        "mctiModel.add(Flatten())\n",
        "mctiModel.add(Dense(1, activation='sigmoid'))"
      ]
    },
    {
      "cell_type": "code",
      "execution_count": null,
      "metadata": {
        "colab": {
          "base_uri": "https://localhost:8080/",
          "height": 422
        },
        "id": "xIrrj9vHI8Kj",
        "outputId": "f70c82df-abce-4c14-d05f-1ac389cdd914"
      },
      "outputs": [
        {
          "data": {
            "image/png": "[encoded data removed]",
            "text/plain": [
              "<IPython.core.display.Image object>"
            ]
          },
          "execution_count": 29,
          "metadata": {},
          "output_type": "execute_result"
        }
      ],
      "source": [
        "keras.utils.plot_model(mctiModel, show_shapes=True)"
      ]
    },
    {
      "cell_type": "code",
      "execution_count": null,
      "metadata": {
        "colab": {
          "base_uri": "https://localhost:8080/",
          "height": 1000
        },
        "id": "IMrOwt55I8Kj",
        "outputId": "fb23e2ef-46bc-4416-96d7-44b426c11014"
      },
      "outputs": [
        {
          "name": "stdout",
          "output_type": "stream",
          "text": [
            "Epoch 1/100\n"
          ]
        },
        {
          "ename": "UnimplementedError",
          "evalue": "ignored",
          "output_type": "error",
          "traceback": [
            "\u001b[0;31m---------------------------------------------------------------------------\u001b[0m",
            "\u001b[0;31mUnimplementedError\u001b[0m                        Traceback (most recent call last)",
            "\u001b[0;32m<ipython-input-31-052dd177ca8c>\u001b[0m in \u001b[0;36m<module>\u001b[0;34m()\u001b[0m\n\u001b[1;32m      9\u001b[0m \u001b[0;34m\u001b[0m\u001b[0m\n\u001b[1;32m     10\u001b[0m \u001b[0;31m# fiting  the model\u001b[0m\u001b[0;34m\u001b[0m\u001b[0;34m\u001b[0m\u001b[0;34m\u001b[0m\u001b[0m\n\u001b[0;32m---> 11\u001b[0;31m \u001b[0mhistoryMCTI\u001b[0m \u001b[0;34m=\u001b[0m \u001b[0mmctiModel\u001b[0m\u001b[0;34m.\u001b[0m\u001b[0mfit\u001b[0m\u001b[0;34m(\u001b[0m\u001b[0mMCTI_train\u001b[0m\u001b[0;34m,\u001b[0m \u001b[0my_trainMCTI\u001b[0m\u001b[0;34m,\u001b[0m \u001b[0mepochs\u001b[0m\u001b[0;34m=\u001b[0m\u001b[0;36m100\u001b[0m\u001b[0;34m,\u001b[0m \u001b[0mcallbacks\u001b[0m\u001b[0;34m=\u001b[0m\u001b[0mcallbacks_list\u001b[0m\u001b[0;34m,\u001b[0m \u001b[0mverbose\u001b[0m\u001b[0;34m=\u001b[0m\u001b[0;32mTrue\u001b[0m\u001b[0;34m,\u001b[0m \u001b[0mvalidation_data\u001b[0m\u001b[0;34m=\u001b[0m\u001b[0;34m(\u001b[0m\u001b[0mMCTI_test\u001b[0m\u001b[0;34m,\u001b[0m \u001b[0my_testMCTI\u001b[0m\u001b[0;34m)\u001b[0m\u001b[0;34m,\u001b[0m \u001b[0mbatch_size\u001b[0m\u001b[0;34m=\u001b[0m\u001b[0;36m128\u001b[0m\u001b[0;34m)\u001b[0m\u001b[0;34m\u001b[0m\u001b[0;34m\u001b[0m\u001b[0m\n\u001b[0m\u001b[1;32m     12\u001b[0m \u001b[0;34m\u001b[0m\u001b[0m\n\u001b[1;32m     13\u001b[0m \u001b[0;31m# evaluate the model\u001b[0m\u001b[0;34m\u001b[0m\u001b[0;34m\u001b[0m\u001b[0;34m\u001b[0m\u001b[0m\n",
            "\u001b[0;32m/usr/local/lib/python3.7/dist-packages/keras/utils/traceback_utils.py\u001b[0m in \u001b[0;36merror_handler\u001b[0;34m(*args, **kwargs)\u001b[0m\n\u001b[1;32m     65\u001b[0m     \u001b[0;32mexcept\u001b[0m \u001b[0mException\u001b[0m \u001b[0;32mas\u001b[0m \u001b[0me\u001b[0m\u001b[0;34m:\u001b[0m  \u001b[0;31m# pylint: disable=broad-except\u001b[0m\u001b[0;34m\u001b[0m\u001b[0;34m\u001b[0m\u001b[0m\n\u001b[1;32m     66\u001b[0m       \u001b[0mfiltered_tb\u001b[0m \u001b[0;34m=\u001b[0m \u001b[0m_process_traceback_frames\u001b[0m\u001b[0;34m(\u001b[0m\u001b[0me\u001b[0m\u001b[0;34m.\u001b[0m\u001b[0m__traceback__\u001b[0m\u001b[0;34m)\u001b[0m\u001b[0;34m\u001b[0m\u001b[0;34m\u001b[0m\u001b[0m\n\u001b[0;32m---> 67\u001b[0;31m       \u001b[0;32mraise\u001b[0m \u001b[0me\u001b[0m\u001b[0;34m.\u001b[0m\u001b[0mwith_traceback\u001b[0m\u001b[0;34m(\u001b[0m\u001b[0mfiltered_tb\u001b[0m\u001b[0;34m)\u001b[0m \u001b[0;32mfrom\u001b[0m \u001b[0;32mNone\u001b[0m\u001b[0;34m\u001b[0m\u001b[0;34m\u001b[0m\u001b[0m\n\u001b[0m\u001b[1;32m     68\u001b[0m     \u001b[0;32mfinally\u001b[0m\u001b[0;34m:\u001b[0m\u001b[0;34m\u001b[0m\u001b[0;34m\u001b[0m\u001b[0m\n\u001b[1;32m     69\u001b[0m       \u001b[0;32mdel\u001b[0m \u001b[0mfiltered_tb\u001b[0m\u001b[0;34m\u001b[0m\u001b[0;34m\u001b[0m\u001b[0m\n",
            "\u001b[0;32m/usr/local/lib/python3.7/dist-packages/tensorflow/python/eager/execute.py\u001b[0m in \u001b[0;36mquick_execute\u001b[0;34m(op_name, num_outputs, inputs, attrs, ctx, name)\u001b[0m\n\u001b[1;32m     53\u001b[0m     \u001b[0mctx\u001b[0m\u001b[0;34m.\u001b[0m\u001b[0mensure_initialized\u001b[0m\u001b[0;34m(\u001b[0m\u001b[0;34m)\u001b[0m\u001b[0;34m\u001b[0m\u001b[0;34m\u001b[0m\u001b[0m\n\u001b[1;32m     54\u001b[0m     tensors = pywrap_tfe.TFE_Py_Execute(ctx._handle, device_name, op_name,\n\u001b[0;32m---> 55\u001b[0;31m                                         inputs, attrs, num_outputs)\n\u001b[0m\u001b[1;32m     56\u001b[0m   \u001b[0;32mexcept\u001b[0m \u001b[0mcore\u001b[0m\u001b[0;34m.\u001b[0m\u001b[0m_NotOkStatusException\u001b[0m \u001b[0;32mas\u001b[0m \u001b[0me\u001b[0m\u001b[0;34m:\u001b[0m\u001b[0;34m\u001b[0m\u001b[0;34m\u001b[0m\u001b[0m\n\u001b[1;32m     57\u001b[0m     \u001b[0;32mif\u001b[0m \u001b[0mname\u001b[0m \u001b[0;32mis\u001b[0m \u001b[0;32mnot\u001b[0m \u001b[0;32mNone\u001b[0m\u001b[0;34m:\u001b[0m\u001b[0;34m\u001b[0m\u001b[0;34m\u001b[0m\u001b[0m\n",
            "\u001b[0;31mUnimplementedError\u001b[0m: Graph execution error:\n\nDetected at node 'binary_crossentropy/Cast' defined at (most recent call last):\n    File \"/usr/lib/python3.7/runpy.py\", line 193, in _run_module_as_main\n      \"__main__\", mod_spec)\n    File \"/usr/lib/python3.7/runpy.py\", line 85, in _run_code\n      exec(code, run_globals)\n    File \"/usr/local/lib/python3.7/dist-packages/ipykernel_launcher.py\", line 16, in <module>\n      app.launch_new_instance()\n    File \"/usr/local/lib/python3.7/dist-packages/traitlets/config/application.py\", line 846, in launch_instance\n      app.start()\n    File \"/usr/local/lib/python3.7/dist-packages/ipykernel/kernelapp.py\", line 499, in start\n      self.io_loop.start()\n    File \"/usr/local/lib/python3.7/dist-packages/tornado/platform/asyncio.py\", line 132, in start\n      self.asyncio_loop.run_forever()\n    File \"/usr/lib/python3.7/asyncio/base_events.py\", line 541, in run_forever\n      self._run_once()\n    File \"/usr/lib/python3.7/asyncio/base_events.py\", line 1786, in _run_once\n      handle._run()\n    File \"/usr/lib/python3.7/asyncio/events.py\", line 88, in _run\n      self._context.run(self._callback, *self._args)\n    File \"/usr/local/lib/python3.7/dist-packages/tornado/platform/asyncio.py\", line 122, in _handle_events\n      handler_func(fileobj, events)\n    File \"/usr/local/lib/python3.7/dist-packages/tornado/stack_context.py\", line 300, in null_wrapper\n      return fn(*args, **kwargs)\n    File \"/usr/local/lib/python3.7/dist-packages/zmq/eventloop/zmqstream.py\", line 452, in _handle_events\n      self._handle_recv()\n    File \"/usr/local/lib/python3.7/dist-packages/zmq/eventloop/zmqstream.py\", line 481, in _handle_recv\n      self._run_callback(callback, msg)\n    File \"/usr/local/lib/python3.7/dist-packages/zmq/eventloop/zmqstream.py\", line 431, in _run_callback\n      callback(*args, **kwargs)\n    File \"/usr/local/lib/python3.7/dist-packages/tornado/stack_context.py\", line 300, in null_wrapper\n      return fn(*args, **kwargs)\n    File \"/usr/local/lib/python3.7/dist-packages/ipykernel/kernelbase.py\", line 283, in dispatcher\n      return self.dispatch_shell(stream, msg)\n    File \"/usr/local/lib/python3.7/dist-packages/ipykernel/kernelbase.py\", line 233, in dispatch_shell\n      handler(stream, idents, msg)\n    File \"/usr/local/lib/python3.7/dist-packages/ipykernel/kernelbase.py\", line 399, in execute_request\n      user_expressions, allow_stdin)\n    File \"/usr/local/lib/python3.7/dist-packages/ipykernel/ipkernel.py\", line 208, in do_execute\n      res = shell.run_cell(code, store_history=store_history, silent=silent)\n    File \"/usr/local/lib/python3.7/dist-packages/ipykernel/zmqshell.py\", line 537, in run_cell\n      return super(ZMQInteractiveShell, self).run_cell(*args, **kwargs)\n    File \"/usr/local/lib/python3.7/dist-packages/IPython/core/interactiveshell.py\", line 2718, in run_cell\n      interactivity=interactivity, compiler=compiler, result=result)\n    File \"/usr/local/lib/python3.7/dist-packages/IPython/core/interactiveshell.py\", line 2822, in run_ast_nodes\n      if self.run_code(code, result):\n    File \"/usr/local/lib/python3.7/dist-packages/IPython/core/interactiveshell.py\", line 2882, in run_code\n      exec(code_obj, self.user_global_ns, self.user_ns)\n    File \"<ipython-input-31-052dd177ca8c>\", line 11, in <module>\n      historyMCTI = mctiModel.fit(MCTI_train, y_trainMCTI, epochs=100, callbacks=callbacks_list, verbose=True, validation_data=(MCTI_test, y_testMCTI), batch_size=128)\n    File \"/usr/local/lib/python3.7/dist-packages/keras/utils/traceback_utils.py\", line 64, in error_handler\n      return fn(*args, **kwargs)\n    File \"/usr/local/lib/python3.7/dist-packages/keras/engine/training.py\", line 1384, in fit\n      tmp_logs = self.train_function(iterator)\n    File \"/usr/local/lib/python3.7/dist-packages/keras/engine/training.py\", line 1021, in train_function\n      return step_function(self, iterator)\n    File \"/usr/local/lib/python3.7/dist-packages/keras/engine/training.py\", line 1010, in step_function\n      outputs = model.distribute_strategy.run(run_step, args=(data,))\n    File \"/usr/local/lib/python3.7/dist-packages/keras/engine/training.py\", line 1000, in run_step\n      outputs = model.train_step(data)\n    File \"/usr/local/lib/python3.7/dist-packages/keras/engine/training.py\", line 860, in train_step\n      loss = self.compute_loss(x, y, y_pred, sample_weight)\n    File \"/usr/local/lib/python3.7/dist-packages/keras/engine/training.py\", line 919, in compute_loss\n      y, y_pred, sample_weight, regularization_losses=self.losses)\n    File \"/usr/local/lib/python3.7/dist-packages/keras/engine/compile_utils.py\", line 201, in __call__\n      loss_value = loss_obj(y_t, y_p, sample_weight=sw)\n    File \"/usr/local/lib/python3.7/dist-packages/keras/losses.py\", line 141, in __call__\n      losses = call_fn(y_true, y_pred)\n    File \"/usr/local/lib/python3.7/dist-packages/keras/losses.py\", line 245, in call\n      return ag_fn(y_true, y_pred, **self._fn_kwargs)\n    File \"/usr/local/lib/python3.7/dist-packages/keras/losses.py\", line 1922, in binary_crossentropy\n      y_true = tf.cast(y_true, y_pred.dtype)\nNode: 'binary_crossentropy/Cast'\nCast string to float is not supported\n\t [[{{node binary_crossentropy/Cast}}]] [Op:__inference_train_function_7964]"
          ]
        }
      ],
      "source": [
        "# add checkpoint to save the network and stop if training doesn't improve\n",
        "filepath = \"best weights.h5\"\n",
        "checkpoint = keras.callbacks.ModelCheckpoint(filepath, monitor='val_loss', verbose=1, \n",
        "                             save_best_only=True, mode='min')\n",
        "earlystop = keras.callbacks.EarlyStopping(monitor='val_loss', patience=50)\n",
        "callbacks_list = [checkpoint, earlystop]\n",
        "\n",
        "mctiModel.compile(optimizer='adam', loss='binary_crossentropy', metrics=['accuracy'])\n",
        "\n",
        "# fiting  the model\n",
        "historyMCTI = mctiModel.fit(MCTI_train, y_trainMCTI, epochs=100, callbacks=callbacks_list, verbose=True, validation_data=(MCTI_test, y_testMCTI), batch_size=128)\n",
        "\n",
        "# evaluate the model\n",
        "modelloss, modelaccuracy = mctiModel.evaluate(MCTI_test, y_testMCTI, verbose=0)\n",
        "print('Accuracy: %f' % (modelaccuracy*100))"
      ]
    },
    {
      "cell_type": "code",
      "execution_count": null,
      "metadata": {
        "id": "kQMbfJYII8Kj"
      },
      "outputs": [],
      "source": [
        "plot_history(historyMCTI)"
      ]
    }
  ],
  "metadata": {
    "colab": {
      "collapsed_sections": [],
      "name": "Full NLP Notebook",
      "provenance": []
    },
    "kernelspec": {
      "display_name": "Python 3",
      "name": "python3"
    },
    "language_info": {
      "name": "python"
    }
  },
  "nbformat": 4,
  "nbformat_minor": 0
}
